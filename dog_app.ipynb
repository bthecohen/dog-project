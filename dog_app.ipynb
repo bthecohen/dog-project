{
 "cells": [
  {
   "cell_type": "markdown",
   "metadata": {},
   "source": [
    "# Artificial Intelligence Nanodegree\n",
    "\n",
    "## Convolutional Neural Networks\n",
    "\n",
    "## Project: Write an Algorithm for a Dog Identification App \n",
    "\n",
    "---\n",
    "\n",
    "In this notebook, some template code has already been provided for you, and you will need to implement additional functionality to successfully complete this project. You will not need to modify the included code beyond what is requested. Sections that begin with **'(IMPLEMENTATION)'** in the header indicate that the following block of code will require additional functionality which you must provide. Instructions will be provided for each section, and the specifics of the implementation are marked in the code block with a 'TODO' statement. Please be sure to read the instructions carefully! \n",
    "\n",
    "> **Note**: Once you have completed all of the code implementations, you need to finalize your work by exporting the iPython Notebook as an HTML document. Before exporting the notebook to html, all of the code cells need to have been run so that reviewers can see the final implementation and output. You can then export the notebook by using the menu above and navigating to  \\n\",\n",
    "    \"**File -> Download as -> HTML (.html)**. Include the finished document along with this notebook as your submission.\n",
    "\n",
    "In addition to implementing code, there will be questions that you must answer which relate to the project and your implementation. Each section where you will answer a question is preceded by a **'Question X'** header. Carefully read each question and provide thorough answers in the following text boxes that begin with **'Answer:'**. Your project submission will be evaluated based on your answers to each of the questions and the implementation you provide.\n",
    "\n",
    ">**Note:** Code and Markdown cells can be executed using the **Shift + Enter** keyboard shortcut.  Markdown cells can be edited by double-clicking the cell to enter edit mode.\n",
    "\n",
    "The rubric contains _optional_ \"Stand Out Suggestions\" for enhancing the project beyond the minimum requirements. If you decide to pursue the \"Stand Out Suggestions\", you should include the code in this IPython notebook.\n",
    "\n",
    "\n",
    "\n",
    "---\n",
    "### Why We're Here \n",
    "\n",
    "In this notebook, you will make the first steps towards developing an algorithm that could be used as part of a mobile or web app.  At the end of this project, your code will accept any user-supplied image as input.  If a dog is detected in the image, it will provide an estimate of the dog's breed.  If a human is detected, it will provide an estimate of the dog breed that is most resembling.  The image below displays potential sample output of your finished project (... but we expect that each student's algorithm will behave differently!). \n",
    "\n",
    "![Sample Dog Output](images/sample_dog_output.png)\n",
    "\n",
    "In this real-world setting, you will need to piece together a series of models to perform different tasks; for instance, the algorithm that detects humans in an image will be different from the CNN that infers dog breed.  There are many points of possible failure, and no perfect algorithm exists.  Your imperfect solution will nonetheless create a fun user experience!\n",
    "\n",
    "### The Road Ahead\n",
    "\n",
    "We break the notebook into separate steps.  Feel free to use the links below to navigate the notebook.\n",
    "\n",
    "* [Step 0](#step0): Import Datasets\n",
    "* [Step 1](#step1): Detect Humans\n",
    "* [Step 2](#step2): Detect Dogs\n",
    "* [Step 3](#step3): Create a CNN to Classify Dog Breeds (from Scratch)\n",
    "* [Step 4](#step4): Use a CNN to Classify Dog Breeds (using Transfer Learning)\n",
    "* [Step 5](#step5): Create a CNN to Classify Dog Breeds (using Transfer Learning)\n",
    "* [Step 6](#step6): Write your Algorithm\n",
    "* [Step 7](#step7): Test Your Algorithm\n",
    "\n",
    "---\n",
    "<a id='step0'></a>\n",
    "## Step 0: Import Datasets\n",
    "\n",
    "### Import Dog Dataset\n",
    "\n",
    "In the code cell below, we import a dataset of dog images.  We populate a few variables through the use of the `load_files` function from the scikit-learn library:\n",
    "- `train_files`, `valid_files`, `test_files` - numpy arrays containing file paths to images\n",
    "- `train_targets`, `valid_targets`, `test_targets` - numpy arrays containing onehot-encoded classification labels \n",
    "- `dog_names` - list of string-valued dog breed names for translating labels"
   ]
  },
  {
   "cell_type": "code",
   "execution_count": 1,
   "metadata": {},
   "outputs": [
    {
     "name": "stderr",
     "output_type": "stream",
     "text": [
      "Using TensorFlow backend.\n"
     ]
    },
    {
     "name": "stdout",
     "output_type": "stream",
     "text": [
      "There are 133 total dog categories.\n",
      "There are 8351 total dog images.\n",
      "\n",
      "There are 6680 training dog images.\n",
      "There are 835 validation dog images.\n",
      "There are 836 test dog images.\n"
     ]
    }
   ],
   "source": [
    "from sklearn.datasets import load_files       \n",
    "from keras.utils import np_utils\n",
    "import numpy as np\n",
    "from glob import glob\n",
    "\n",
    "# define function to load train, test, and validation datasets\n",
    "def load_dataset(path):\n",
    "    data = load_files(path)\n",
    "    dog_files = np.array(data['filenames'])\n",
    "    dog_targets = np_utils.to_categorical(np.array(data['target']), 133)\n",
    "    return dog_files, dog_targets\n",
    "\n",
    "# load train, test, and validation datasets\n",
    "train_files, train_targets = load_dataset('dogImages/train')\n",
    "valid_files, valid_targets = load_dataset('dogImages/valid')\n",
    "test_files, test_targets = load_dataset('dogImages/test')\n",
    "\n",
    "# load list of dog names\n",
    "dog_names = [item[20:-1] for item in sorted(glob(\"dogImages/train/*/\"))]\n",
    "\n",
    "# print statistics about the dataset\n",
    "print('There are %d total dog categories.' % len(dog_names))\n",
    "print('There are %s total dog images.\\n' % len(np.hstack([train_files, valid_files, test_files])))\n",
    "print('There are %d training dog images.' % len(train_files))\n",
    "print('There are %d validation dog images.' % len(valid_files))\n",
    "print('There are %d test dog images.'% len(test_files))"
   ]
  },
  {
   "cell_type": "markdown",
   "metadata": {},
   "source": [
    "### Import Human Dataset\n",
    "\n",
    "In the code cell below, we import a dataset of human images, where the file paths are stored in the numpy array `human_files`."
   ]
  },
  {
   "cell_type": "code",
   "execution_count": 2,
   "metadata": {},
   "outputs": [
    {
     "name": "stdout",
     "output_type": "stream",
     "text": [
      "There are 13233 total human images.\n"
     ]
    }
   ],
   "source": [
    "import random\n",
    "random.seed(8675309)\n",
    "\n",
    "# load filenames in shuffled human dataset\n",
    "human_files = np.array(glob(\"lfw/*/*\"))\n",
    "random.shuffle(human_files)\n",
    "\n",
    "# print statistics about the dataset\n",
    "print('There are %d total human images.' % len(human_files))"
   ]
  },
  {
   "cell_type": "markdown",
   "metadata": {},
   "source": [
    "---\n",
    "<a id='step1'></a>\n",
    "## Step 1: Detect Humans\n",
    "\n",
    "We use OpenCV's implementation of [Haar feature-based cascade classifiers](http://docs.opencv.org/trunk/d7/d8b/tutorial_py_face_detection.html) to detect human faces in images.  OpenCV provides many pre-trained face detectors, stored as XML files on [github](https://github.com/opencv/opencv/tree/master/data/haarcascades).  We have downloaded one of these detectors and stored it in the `haarcascades` directory.\n",
    "\n",
    "In the next code cell, we demonstrate how to use this detector to find human faces in a sample image."
   ]
  },
  {
   "cell_type": "code",
   "execution_count": 3,
   "metadata": {},
   "outputs": [
    {
     "name": "stdout",
     "output_type": "stream",
     "text": [
      "Number of faces detected: 1\n"
     ]
    },
    {
     "data": {
      "image/png": "[encoded data removed]",
      "text/plain": [
       "<matplotlib.figure.Figure at 0x7f985415d668>"
      ]
     },
     "metadata": {},
     "output_type": "display_data"
    }
   ],
   "source": [
    "import cv2                \n",
    "import matplotlib.pyplot as plt                        \n",
    "%matplotlib inline                               \n",
    "\n",
    "# extract pre-trained face detector\n",
    "face_cascade = cv2.CascadeClassifier('haarcascades/haarcascade_frontalface_alt.xml')\n",
    "\n",
    "# load color (BGR) image\n",
    "img = cv2.imread(human_files[3])\n",
    "# convert BGR image to grayscale\n",
    "gray = cv2.cvtColor(img, cv2.COLOR_BGR2GRAY)\n",
    "\n",
    "# find faces in image\n",
    "faces = face_cascade.detectMultiScale(gray)\n",
    "\n",
    "# print number of faces detected in the image\n",
    "print('Number of faces detected:', len(faces))\n",
    "\n",
    "# get bounding box for each detected face\n",
    "for (x,y,w,h) in faces:\n",
    "    # add bounding box to color image\n",
    "    cv2.rectangle(img,(x,y),(x+w,y+h),(255,0,0),2)\n",
    "    \n",
    "# convert BGR image to RGB for plotting\n",
    "cv_rgb = cv2.cvtColor(img, cv2.COLOR_BGR2RGB)\n",
    "\n",
    "# display the image, along with bounding box\n",
    "plt.imshow(cv_rgb)\n",
    "plt.show()"
   ]
  },
  {
   "cell_type": "markdown",
   "metadata": {},
   "source": [
    "Before using any of the face detectors, it is standard procedure to convert the images to grayscale.  The `detectMultiScale` function executes the classifier stored in `face_cascade` and takes the grayscale image as a parameter.  \n",
    "\n",
    "In the above code, `faces` is a numpy array of detected faces, where each row corresponds to a detected face.  Each detected face is a 1D array with four entries that specifies the bounding box of the detected face.  The first two entries in the array (extracted in the above code as `x` and `y`) specify the horizontal and vertical positions of the top left corner of the bounding box.  The last two entries in the array (extracted here as `w` and `h`) specify the width and height of the box.\n",
    "\n",
    "### Write a Human Face Detector\n",
    "\n",
    "We can use this procedure to write a function that returns `True` if a human face is detected in an image and `False` otherwise.  This function, aptly named `face_detector`, takes a string-valued file path to an image as input and appears in the code block below."
   ]
  },
  {
   "cell_type": "code",
   "execution_count": 4,
   "metadata": {},
   "outputs": [],
   "source": [
    "# returns \"True\" if face is detected in image stored at img_path\n",
    "def face_detector(img_path):\n",
    "    img = cv2.imread(img_path)\n",
    "    gray = cv2.cvtColor(img, cv2.COLOR_BGR2GRAY)\n",
    "    faces = face_cascade.detectMultiScale(gray)\n",
    "    return len(faces) > 0"
   ]
  },
  {
   "cell_type": "markdown",
   "metadata": {},
   "source": [
    "### (IMPLEMENTATION) Assess the Human Face Detector\n",
    "\n",
    "__Question 1:__ Use the code cell below to test the performance of the `face_detector` function.  \n",
    "- What percentage of the first 100 images in `human_files` have a detected human face?  \n",
    "- What percentage of the first 100 images in `dog_files` have a detected human face? \n",
    "\n",
    "Ideally, we would like 100% of human images with a detected face and 0% of dog images with a detected face.  You will see that our algorithm falls short of this goal, but still gives acceptable performance.  We extract the file paths for the first 100 images from each of the datasets and store them in the numpy arrays `human_files_short` and `dog_files_short`.\n",
    "\n",
    "__Answer:__ "
   ]
  },
  {
   "cell_type": "code",
   "execution_count": 5,
   "metadata": {},
   "outputs": [
    {
     "name": "stdout",
     "output_type": "stream",
     "text": [
      "Detected a face in 98.0% of human images\n",
      "Detected a face in 11.0% of dog images\n"
     ]
    }
   ],
   "source": [
    "human_files_short = human_files[:100]\n",
    "dog_files_short = train_files[:100]\n",
    "# Do NOT modify the code above this line.\n",
    "\n",
    "## TODO: Test the performance of the face_detector algorithm \n",
    "## on the images in human_files_short and dog_files_short.\n",
    "print(\"Detected a face in {}% of human images\".format(\n",
    "    np.around(np.mean([face_detector(h) for h in human_files_short]), 4) * 100\n",
    "))\n",
    "\n",
    "print(\"Detected a face in {}% of dog images\".format(\n",
    "    np.around(np.mean([face_detector(d) for d in dog_files_short]), 4) * 100\n",
    "))\n"
   ]
  },
  {
   "cell_type": "markdown",
   "metadata": {},
   "source": [
    "__Question 2:__ This algorithmic choice necessitates that we communicate to the user that we accept human images only when they provide a clear view of a face (otherwise, we risk having unneccessarily frustrated users!). In your opinion, is this a reasonable expectation to pose on the user? If not, can you think of a way to detect humans in images that does not necessitate an image with a clearly presented face?\n",
    "\n",
    "__Answer:__\n",
    "\n",
    "I don't think this is a necessary tradeoff. The central problem here is that we are repurposing a localization algorithm as a classifier. The OpenCV face detector is probably trained with recall in mind more than precision with respect to detecting faces. And it's certainly not trained in particular to discriminate between dog and human faces. Thus, it's understandable that there's a high false positive rate for dog faces.\n",
    "\n",
    "The obvious solution, given that this is a project all about transfer learing, is to fine-tune an imagenet model using the same training data of dog and human faces. We can easily create target labels by labeling all human faces as 1 and all dog faces as 0.\n",
    "\n",
    "We suggest the face detector from OpenCV as a potential way to detect human images in your algorithm, but you are free to explore other approaches, especially approaches that make use of deep learning :).  Please use the code cell below to design and test your own face detection algorithm.  If you decide to pursue this _optional_ task, report performance on each of the datasets."
   ]
  },
  {
   "cell_type": "code",
   "execution_count": 6,
   "metadata": {},
   "outputs": [],
   "source": [
    "## (Optional) TODO: Report the performance of another  \n",
    "## face detection algorithm on the LFW dataset\n",
    "### Feel free to use as many code cells as needed.\n",
    "\n",
    "# First, divide human pictures into train/val/test\n",
    "\n",
    "from sklearn.model_selection import train_test_split\n",
    "\n",
    "human_train_files, human_val_test_files = train_test_split(human_files, test_size=0.2)\n",
    "human_val_files, human_test_files = train_test_split(human_val_test_files, test_size=0.5)"
   ]
  },
  {
   "cell_type": "code",
   "execution_count": 7,
   "metadata": {},
   "outputs": [
    {
     "name": "stdout",
     "output_type": "stream",
     "text": [
      "There are 10586 training human images.\n",
      "There are 1323 validation human images.\n",
      "There are 1324 test human images.\n"
     ]
    }
   ],
   "source": [
    "print('There are %d training human images.' % len(human_train_files))\n",
    "print('There are %d validation human images.' % len(human_val_files))\n",
    "print('There are %d test human images.'% len(human_test_files))"
   ]
  },
  {
   "cell_type": "code",
   "execution_count": 8,
   "metadata": {},
   "outputs": [],
   "source": [
    "# Now, make labels: human = 1, dog = 0\n",
    "human_train_targets = np.ones(human_train_files.shape)\n",
    "human_val_targets = np.ones(human_val_files.shape)\n",
    "human_test_targets = np.ones(human_test_files.shape)\n",
    "\n",
    "dog_train_targets = np.zeros(train_files.shape)\n",
    "dog_val_targets = np.zeros(valid_files.shape)\n",
    "dog_test_targets = np.zeros(test_files.shape)"
   ]
  },
  {
   "cell_type": "code",
   "execution_count": 282,
   "metadata": {},
   "outputs": [],
   "source": [
    "# Now, stack our dogs and humans together\n",
    "face_train_files = np.hstack([human_train_files, train_files])\n",
    "face_val_files = np.hstack([human_val_files, valid_files])\n",
    "face_test_files = np.hstack([human_test_files, test_files])\n",
    "\n",
    "from keras.utils import to_categorical\n",
    "face_train_targets = to_categorical(np.hstack([human_train_targets, dog_train_targets]))\n",
    "face_val_targets = to_categorical(np.hstack([human_val_targets, dog_val_targets]))\n",
    "face_test_targets = to_categorical(np.hstack([human_test_targets, dog_test_targets]))\n"
   ]
  },
  {
   "cell_type": "code",
   "execution_count": 245,
   "metadata": {},
   "outputs": [
    {
     "data": {
      "text/plain": [
       "array(['lfw/Zahir_Shah/Zahir_Shah_0001.jpg',\n",
       "       'lfw/Annie_Chaplin/Annie_Chaplin_0001.jpg',\n",
       "       'lfw/Paul_Pierce/Paul_Pierce_0001.jpg', ...,\n",
       "       'dogImages/train/029.Border_collie/Border_collie_02069.jpg',\n",
       "       'dogImages/train/046.Cavalier_king_charles_spaniel/Cavalier_king_charles_spaniel_03261.jpg',\n",
       "       'dogImages/train/048.Chihuahua/Chihuahua_03416.jpg'],\n",
       "      dtype='<U99')"
      ]
     },
     "execution_count": 245,
     "metadata": {},
     "output_type": "execute_result"
    }
   ],
   "source": [
    "face_train_files"
   ]
  },
  {
   "cell_type": "code",
   "execution_count": 254,
   "metadata": {},
   "outputs": [],
   "source": [
    "# borrow the preprocessing code from below\n",
    "from keras.preprocessing import image                  \n",
    "from tqdm import tqdm\n",
    "\n",
    "def path_to_tensor(img_path):\n",
    "    # loads RGB image as PIL.Image.Image type\n",
    "    img = image.load_img(img_path, target_size=(224, 224))\n",
    "\n",
    "    # convert PIL.Image.Image type to 3D tensor with shape (224, 224, 3)\n",
    "    x = image.img_to_array(img)\n",
    "    # convert 3D tensor to 4D tensor with shape (1, 224, 224, 3) and return 4D tensor\n",
    "    return np.expand_dims(x, axis=0)\n",
    "\n",
    "def paths_to_tensor(img_paths):\n",
    "    list_of_tensors = [path_to_tensor(img_path) for img_path in tqdm(img_paths)]\n",
    "    return np.vstack(list_of_tensors)"
   ]
  },
  {
   "cell_type": "code",
   "execution_count": 255,
   "metadata": {
    "scrolled": true
   },
   "outputs": [
    {
     "name": "stderr",
     "output_type": "stream",
     "text": [
      "100%|██████████| 17266/17266 [01:09<00:00, 246.92it/s]\n",
      "100%|██████████| 2158/2158 [00:07<00:00, 275.64it/s]\n",
      "100%|██████████| 2160/2160 [00:07<00:00, 277.64it/s]\n"
     ]
    }
   ],
   "source": [
    "from PIL import ImageFile                            \n",
    "ImageFile.LOAD_TRUNCATED_IMAGES = True \n",
    "# load up our tensors\n",
    "face_train = paths_to_tensor(face_train_files)\n",
    "face_val = paths_to_tensor(face_val_files)\n",
    "face_test = paths_to_tensor(face_test_files)"
   ]
  },
  {
   "cell_type": "code",
   "execution_count": 257,
   "metadata": {},
   "outputs": [],
   "source": [
    "from keras.applications import xception"
   ]
  },
  {
   "cell_type": "code",
   "execution_count": 258,
   "metadata": {},
   "outputs": [],
   "source": [
    "face_train_tensor = xception.preprocess_input(face_train)\n",
    "\n",
    "face_val_tensor = xception.preprocess_input(face_val)\n",
    "\n",
    "face_test_tensor = xception.preprocess_input(face_test)"
   ]
  },
  {
   "cell_type": "code",
   "execution_count": 259,
   "metadata": {},
   "outputs": [],
   "source": [
    "m = xception.Xception(include_top=False, input_shape=(224, 224, 3))"
   ]
  },
  {
   "cell_type": "code",
   "execution_count": 260,
   "metadata": {},
   "outputs": [],
   "source": [
    "# Create bottleneck features\n",
    "face_train_bottleneck = m.predict(face_train_tensor)\n",
    "face_val_bottleneck = m.predict(face_val_tensor)\n",
    "face_test_bottleneck = m.predict(face_test_tensor)"
   ]
  },
  {
   "cell_type": "code",
   "execution_count": 261,
   "metadata": {},
   "outputs": [],
   "source": [
    "# make our model\n",
    "from keras import layers\n",
    "from keras.models import Model, Sequential"
   ]
  },
  {
   "cell_type": "code",
   "execution_count": 262,
   "metadata": {},
   "outputs": [],
   "source": [
    "np.savez_compressed(\n",
    "    \"bottleneck_features/xception-face.npz\",\n",
    "    train=face_test_bottleneck,\n",
    "    val=face_val_bottleneck,\n",
    "    test=face_test_bottleneck\n",
    ")"
   ]
  },
  {
   "cell_type": "code",
   "execution_count": 283,
   "metadata": {
    "scrolled": true
   },
   "outputs": [
    {
     "name": "stdout",
     "output_type": "stream",
     "text": [
      "_________________________________________________________________\n",
      "Layer (type)                 Output Shape              Param #   \n",
      "=================================================================\n",
      "global_average_pooling2d_29  (None, 2048)              0         \n",
      "_________________________________________________________________\n",
      "dense_58 (Dense)             (None, 20)                40980     \n",
      "_________________________________________________________________\n",
      "dropout_29 (Dropout)         (None, 20)                0         \n",
      "_________________________________________________________________\n",
      "dense_59 (Dense)             (None, 2)                 42        \n",
      "=================================================================\n",
      "Total params: 41,022\n",
      "Trainable params: 41,022\n",
      "Non-trainable params: 0\n",
      "_________________________________________________________________\n"
     ]
    }
   ],
   "source": [
    "face_model = Sequential()\n",
    "\n",
    "face_model.add(layers.GlobalAveragePooling2D(input_shape=face_test_bottleneck.shape[1:]))\n",
    "face_model.add(layers.Dense(20, activation=\"relu\", activity_regularizer=\"l2\"))\n",
    "face_model.add(layers.Dropout(0.5))\n",
    "face_model.add(layers.Dense(2, activation=\"softmax\"))\n",
    "\n",
    "face_model.summary()\n"
   ]
  },
  {
   "cell_type": "code",
   "execution_count": 285,
   "metadata": {},
   "outputs": [
    {
     "data": {
      "text/plain": [
       "array([ 1.29236527,  0.81551105])"
      ]
     },
     "execution_count": 285,
     "metadata": {},
     "output_type": "execute_result"
    }
   ],
   "source": [
    "# Because our classes are imbalanced, calculate class weights\n",
    "from sklearn.utils import class_weight\n",
    "class_weights = class_weight.compute_class_weight('balanced', np.unique(face_train_targets[:,1]), face_train_targets[:, 1])\n",
    "class_weights"
   ]
  },
  {
   "cell_type": "code",
   "execution_count": 286,
   "metadata": {},
   "outputs": [],
   "source": [
    "from keras import optimizers\n",
    "face_model.compile(optimizer=optimizers.Adam(lr=1e-3), loss='categorical_crossentropy', metrics=['accuracy'])"
   ]
  },
  {
   "cell_type": "code",
   "execution_count": 287,
   "metadata": {
    "scrolled": false
   },
   "outputs": [
    {
     "name": "stdout",
     "output_type": "stream",
     "text": [
      "Train on 17266 samples, validate on 2158 samples\n",
      "Epoch 1/10\n",
      "17250/17266 [============================>.] - ETA: 0s - loss: 0.6198 - acc: 0.6115Epoch 00000: val_loss improved from inf to 0.53253, saving model to saved_models/weights.best.face_detector.hdf5\n",
      "17266/17266 [==============================] - 7s - loss: 0.6197 - acc: 0.6115 - val_loss: 0.5325 - val_acc: 0.6131\n",
      "Epoch 2/10\n",
      "17250/17266 [============================>.] - ETA: 0s - loss: 0.5359 - acc: 0.8743Epoch 00001: val_loss improved from 0.53253 to 0.45068, saving model to saved_models/weights.best.face_detector.hdf5\n",
      "17266/17266 [==============================] - 5s - loss: 0.5358 - acc: 0.8743 - val_loss: 0.4507 - val_acc: 0.9968\n",
      "Epoch 3/10\n",
      "17250/17266 [============================>.] - ETA: 0s - loss: 0.4841 - acc: 0.9079Epoch 00002: val_loss improved from 0.45068 to 0.40602, saving model to saved_models/weights.best.face_detector.hdf5\n",
      "17266/17266 [==============================] - 5s - loss: 0.4841 - acc: 0.9078 - val_loss: 0.4060 - val_acc: 0.9991\n",
      "Epoch 4/10\n",
      "17250/17266 [============================>.] - ETA: 0s - loss: 0.4526 - acc: 0.9037Epoch 00003: val_loss improved from 0.40602 to 0.34906, saving model to saved_models/weights.best.face_detector.hdf5\n",
      "17266/17266 [==============================] - 5s - loss: 0.4526 - acc: 0.9037 - val_loss: 0.3491 - val_acc: 0.9981\n",
      "Epoch 5/10\n",
      "17250/17266 [============================>.] - ETA: 0s - loss: 0.4270 - acc: 0.9075Epoch 00004: val_loss improved from 0.34906 to 0.33426, saving model to saved_models/weights.best.face_detector.hdf5\n",
      "17266/17266 [==============================] - 5s - loss: 0.4270 - acc: 0.9076 - val_loss: 0.3343 - val_acc: 0.9972\n",
      "Epoch 6/10\n",
      "17250/17266 [============================>.] - ETA: 0s - loss: 0.4084 - acc: 0.9066Epoch 00005: val_loss improved from 0.33426 to 0.30030, saving model to saved_models/weights.best.face_detector.hdf5\n",
      "17266/17266 [==============================] - 5s - loss: 0.4083 - acc: 0.9067 - val_loss: 0.3003 - val_acc: 0.9991\n",
      "Epoch 7/10\n",
      "17250/17266 [============================>.] - ETA: 0s - loss: 0.3928 - acc: 0.9108Epoch 00006: val_loss improved from 0.30030 to 0.26829, saving model to saved_models/weights.best.face_detector.hdf5\n",
      "17266/17266 [==============================] - 5s - loss: 0.3929 - acc: 0.9106 - val_loss: 0.2683 - val_acc: 0.9972\n",
      "Epoch 8/10\n",
      "17250/17266 [============================>.] - ETA: 0s - loss: 0.3806 - acc: 0.9105Epoch 00007: val_loss improved from 0.26829 to 0.25392, saving model to saved_models/weights.best.face_detector.hdf5\n",
      "17266/17266 [==============================] - 5s - loss: 0.3804 - acc: 0.9106 - val_loss: 0.2539 - val_acc: 0.9981\n",
      "Epoch 9/10\n",
      "17250/17266 [============================>.] - ETA: 0s - loss: 0.3710 - acc: 0.9093Epoch 00008: val_loss did not improve\n",
      "17266/17266 [==============================] - 5s - loss: 0.3708 - acc: 0.9094 - val_loss: 0.2596 - val_acc: 0.9986\n",
      "Epoch 10/10\n",
      "17250/17266 [============================>.] - ETA: 0s - loss: 0.3633 - acc: 0.9101Epoch 00009: val_loss improved from 0.25392 to 0.24721, saving model to saved_models/weights.best.face_detector.hdf5\n",
      "17266/17266 [==============================] - 5s - loss: 0.3632 - acc: 0.9101 - val_loss: 0.2472 - val_acc: 0.9972\n"
     ]
    },
    {
     "data": {
      "text/plain": [
       "<keras.callbacks.History at 0x7f933b2b5a90>"
      ]
     },
     "execution_count": 287,
     "metadata": {},
     "output_type": "execute_result"
    }
   ],
   "source": [
    "from keras.callbacks import ModelCheckpoint  \n",
    "\n",
    "epochs = 10\n",
    "\n",
    "checkpointer = ModelCheckpoint(filepath='saved_models/weights.best.face_detector.hdf5', \n",
    "                               verbose=1, save_best_only=True)\n",
    "\n",
    "face_model.fit(face_train_bottleneck, face_train_targets, \n",
    "          validation_data=(face_val_bottleneck, face_val_targets),\n",
    "          epochs=epochs, batch_size=50, callbacks=[checkpointer], class_weight=class_weights, verbose=1)"
   ]
  },
  {
   "cell_type": "code",
   "execution_count": 326,
   "metadata": {},
   "outputs": [],
   "source": [
    "face_model.load_weights('saved_models/weights.best.face_detector.hdf5')"
   ]
  },
  {
   "cell_type": "code",
   "execution_count": 327,
   "metadata": {},
   "outputs": [
    {
     "name": "stdout",
     "output_type": "stream",
     "text": [
      "Test accuracy: 99.9074%\n",
      "Test accuracy for human pictures: 99.9245%\n",
      "Test accuracy for dog pictures: 99.8804%\n"
     ]
    }
   ],
   "source": [
    "# Now, calculate accuracy on test set\n",
    "face_predictions = np.argmax(face_model.predict(face_test_bottleneck), axis=1)\n",
    "ground_truth = np.argmax(face_test_targets, axis=1)\n",
    "test_accuracy = 100*np.mean(face_predictions==ground_truth)\n",
    "print('Test accuracy: %.4f%%' % test_accuracy)\n",
    "\n",
    "# Report accuracy for both humans and dogs\n",
    "human_predictions = face_predictions[ground_truth.astype(bool)]\n",
    "human_test_accuracy = 100*np.mean(human_predictions)\n",
    "print('Test accuracy for human pictures: %.4f%%' % human_test_accuracy)\n",
    "\n",
    "dog_predictions = 1 - face_predictions[~ground_truth.astype(bool)]\n",
    "dog_test_accuracy = 100*np.mean(dog_predictions)\n",
    "print('Test accuracy for dog pictures: %.4f%%' % dog_test_accuracy)"
   ]
  },
  {
   "cell_type": "code",
   "execution_count": 320,
   "metadata": {},
   "outputs": [],
   "source": [
    "#Now, we're going to finetune the last conv block of the xception network\n",
    "\n",
    "finetune = Model(inputs=m.input, outputs=face_model(m.output))\n",
    "\n",
    "# freeze the earlier layers\n",
    "for layer in finetune.layers[:-6]:\n",
    "    layer.trainable = False"
   ]
  },
  {
   "cell_type": "code",
   "execution_count": 321,
   "metadata": {},
   "outputs": [],
   "source": [
    "finetune.compile(optimizer=\"adam\", loss='binary_crossentropy', metrics=['accuracy'])"
   ]
  },
  {
   "cell_type": "code",
   "execution_count": 322,
   "metadata": {},
   "outputs": [
    {
     "name": "stdout",
     "output_type": "stream",
     "text": [
      "Train on 17266 samples, validate on 2158 samples\n",
      "Epoch 1/10\n",
      "17250/17266 [============================>.] - ETA: 0s - loss: 0.2274 - acc: 0.9186Epoch 00000: val_loss improved from inf to 0.03872, saving model to saved_models/weights.best.face_detector.finetune.hdf5\n",
      "17266/17266 [==============================] - 230s - loss: 0.2272 - acc: 0.9187 - val_loss: 0.0387 - val_acc: 0.9995\n",
      "Epoch 2/10\n",
      "17250/17266 [============================>.] - ETA: 0s - loss: 0.1056 - acc: 0.9227Epoch 00001: val_loss improved from 0.03872 to 0.01906, saving model to saved_models/weights.best.face_detector.finetune.hdf5\n",
      "17266/17266 [==============================] - 221s - loss: 0.1055 - acc: 0.9227 - val_loss: 0.0191 - val_acc: 0.9995\n",
      "Epoch 3/10\n",
      "17250/17266 [============================>.] - ETA: 0s - loss: 0.0695 - acc: 0.9814Epoch 00002: val_loss improved from 0.01906 to 0.01286, saving model to saved_models/weights.best.face_detector.finetune.hdf5\n",
      "17266/17266 [==============================] - 221s - loss: 0.0694 - acc: 0.9815 - val_loss: 0.0129 - val_acc: 0.9995\n"
     ]
    }
   ],
   "source": [
    "# Train for a few epochs\n",
    "epochs = 3\n",
    "\n",
    "checkpointer = ModelCheckpoint(filepath='saved_models/weights.best.face_detector.finetune.hdf5', \n",
    "                               verbose=1, save_best_only=True)\n",
    "\n",
    "finetune.fit(face_train_tensor, face_train_targets, \n",
    "          validation_data=(face_val_tensor, face_val_targets),\n",
    "          epochs=epochs, batch_size=50, callbacks=[checkpointer], class_weight=class_weights, verbose=1)"
   ]
  },
  {
   "cell_type": "code",
   "execution_count": 328,
   "metadata": {},
   "outputs": [],
   "source": [
    "finetune.load_weights('saved_models/weights.best.face_detector.finetune.hdf5')"
   ]
  },
  {
   "cell_type": "code",
   "execution_count": 329,
   "metadata": {},
   "outputs": [
    {
     "name": "stdout",
     "output_type": "stream",
     "text": [
      "Test accuracy: 99.9537%\n"
     ]
    }
   ],
   "source": [
    "face_predictions = np.argmax(finetune.predict(face_test_tensor), axis=1)\n",
    "ground_truth = np.argmax(face_test_targets, axis=1)\n",
    "test_accuracy = 100*np.mean(face_predictions==ground_truth)\n",
    "print('Test accuracy: %.4f%%' % test_accuracy)\n"
   ]
  },
  {
   "cell_type": "code",
   "execution_count": 330,
   "metadata": {},
   "outputs": [
    {
     "name": "stdout",
     "output_type": "stream",
     "text": [
      "Test accuracy for human pictures: 100.0000%\n",
      "Test accuracy for dog pictures: 99.8804%\n"
     ]
    }
   ],
   "source": [
    "# Report accuracy for both humans and dogs – not bad!!\n",
    "human_predictions = face_predictions[ground_truth.astype(bool)]\n",
    "human_test_accuracy = 100*np.mean(human_predictions)\n",
    "print('Test accuracy for human pictures: %.4f%%' % human_test_accuracy)\n",
    "\n",
    "dog_predictions = 1 - face_predictions[~ground_truth.astype(bool)]\n",
    "dog_test_accuracy = 100*np.mean(dog_predictions)\n",
    "print('Test accuracy for dog pictures: %.4f%%' % dog_test_accuracy)"
   ]
  },
  {
   "cell_type": "markdown",
   "metadata": {},
   "source": [
    "---\n",
    "<a id='step2'></a>\n",
    "## Step 2: Detect Dogs\n",
    "\n",
    "In this section, we use a pre-trained [ResNet-50](http://ethereon.github.io/netscope/#/gist/db945b393d40bfa26006) model to detect dogs in images.  Our first line of code downloads the ResNet-50 model, along with weights that have been trained on [ImageNet](http://www.image-net.org/), a very large, very popular dataset used for image classification and other vision tasks.  ImageNet contains over 10 million URLs, each linking to an image containing an object from one of [1000 categories](https://gist.github.com/yrevar/942d3a0ac09ec9e5eb3a).  Given an image, this pre-trained ResNet-50 model returns a prediction (derived from the available categories in ImageNet) for the object that is contained in the image."
   ]
  },
  {
   "cell_type": "code",
   "execution_count": 331,
   "metadata": {},
   "outputs": [
    {
     "name": "stdout",
     "output_type": "stream",
     "text": [
      "Downloading data from https://github.com/fchollet/deep-learning-models/releases/download/v0.2/resnet50_weights_tf_dim_ordering_tf_kernels.h5\n",
      " 96493568/102853048 [===========================>..] - ETA: 0s"
     ]
    }
   ],
   "source": [
    "from keras.applications.resnet50 import ResNet50\n",
    "\n",
    "# define ResNet50 model\n",
    "ResNet50_model = ResNet50(weights='imagenet')"
   ]
  },
  {
   "cell_type": "markdown",
   "metadata": {},
   "source": [
    "### Pre-process the Data\n",
    "\n",
    "When using TensorFlow as backend, Keras CNNs require a 4D array (which we'll also refer to as a 4D tensor) as input, with shape\n",
    "\n",
    "$$\n",
    "(\\text{nb_samples}, \\text{rows}, \\text{columns}, \\text{channels}),\n",
    "$$\n",
    "\n",
    "where `nb_samples` corresponds to the total number of images (or samples), and `rows`, `columns`, and `channels` correspond to the number of rows, columns, and channels for each image, respectively.  \n",
    "\n",
    "The `path_to_tensor` function below takes a string-valued file path to a color image as input and returns a 4D tensor suitable for supplying to a Keras CNN.  The function first loads the image and resizes it to a square image that is $224 \\times 224$ pixels.  Next, the image is converted to an array, which is then resized to a 4D tensor.  In this case, since we are working with color images, each image has three channels.  Likewise, since we are processing a single image (or sample), the returned tensor will always have shape\n",
    "\n",
    "$$\n",
    "(1, 224, 224, 3).\n",
    "$$\n",
    "\n",
    "The `paths_to_tensor` function takes a numpy array of string-valued image paths as input and returns a 4D tensor with shape \n",
    "\n",
    "$$\n",
    "(\\text{nb_samples}, 224, 224, 3).\n",
    "$$\n",
    "\n",
    "Here, `nb_samples` is the number of samples, or number of images, in the supplied array of image paths.  It is best to think of `nb_samples` as the number of 3D tensors (where each 3D tensor corresponds to a different image) in your dataset!"
   ]
  },
  {
   "cell_type": "code",
   "execution_count": 332,
   "metadata": {},
   "outputs": [],
   "source": [
    "from keras.preprocessing import image                  \n",
    "from tqdm import tqdm\n",
    "\n",
    "def path_to_tensor(img_path):\n",
    "    # loads RGB image as PIL.Image.Image type\n",
    "    img = image.load_img(img_path, target_size=(224, 224))\n",
    "    # convert PIL.Image.Image type to 3D tensor with shape (224, 224, 3)\n",
    "    x = image.img_to_array(img)\n",
    "    # convert 3D tensor to 4D tensor with shape (1, 224, 224, 3) and return 4D tensor\n",
    "    return np.expand_dims(x, axis=0)\n",
    "\n",
    "def paths_to_tensor(img_paths):\n",
    "    list_of_tensors = [path_to_tensor(img_path) for img_path in tqdm(img_paths)]\n",
    "    return np.vstack(list_of_tensors)"
   ]
  },
  {
   "cell_type": "markdown",
   "metadata": {},
   "source": [
    "### Making Predictions with ResNet-50\n",
    "\n",
    "Getting the 4D tensor ready for ResNet-50, and for any other pre-trained model in Keras, requires some additional processing.  First, the RGB image is converted to BGR by reordering the channels.  All pre-trained models have the additional normalization step that the mean pixel (expressed in RGB as $[103.939, 116.779, 123.68]$ and calculated from all pixels in all images in ImageNet) must be subtracted from every pixel in each image.  This is implemented in the imported function `preprocess_input`.  If you're curious, you can check the code for `preprocess_input` [here](https://github.com/fchollet/keras/blob/master/keras/applications/imagenet_utils.py).\n",
    "\n",
    "Now that we have a way to format our image for supplying to ResNet-50, we are now ready to use the model to extract the predictions.  This is accomplished with the `predict` method, which returns an array whose $i$-th entry is the model's predicted probability that the image belongs to the $i$-th ImageNet category.  This is implemented in the `ResNet50_predict_labels` function below.\n",
    "\n",
    "By taking the argmax of the predicted probability vector, we obtain an integer corresponding to the model's predicted object class, which we can identify with an object category through the use of this [dictionary](https://gist.github.com/yrevar/942d3a0ac09ec9e5eb3a). "
   ]
  },
  {
   "cell_type": "code",
   "execution_count": 333,
   "metadata": {},
   "outputs": [],
   "source": [
    "from keras.applications.resnet50 import preprocess_input, decode_predictions\n",
    "\n",
    "def ResNet50_predict_labels(img_path):\n",
    "    # returns prediction vector for image located at img_path\n",
    "    img = preprocess_input(path_to_tensor(img_path))\n",
    "    return np.argmax(ResNet50_model.predict(img))"
   ]
  },
  {
   "cell_type": "markdown",
   "metadata": {},
   "source": [
    "### Write a Dog Detector\n",
    "\n",
    "While looking at the [dictionary](https://gist.github.com/yrevar/942d3a0ac09ec9e5eb3a), you will notice that the categories corresponding to dogs appear in an uninterrupted sequence and correspond to dictionary keys 151-268, inclusive, to include all categories from `'Chihuahua'` to `'Mexican hairless'`.  Thus, in order to check to see if an image is predicted to contain a dog by the pre-trained ResNet-50 model, we need only check if the `ResNet50_predict_labels` function above returns a value between 151 and 268 (inclusive).\n",
    "\n",
    "We use these ideas to complete the `dog_detector` function below, which returns `True` if a dog is detected in an image (and `False` if not)."
   ]
  },
  {
   "cell_type": "code",
   "execution_count": 334,
   "metadata": {},
   "outputs": [],
   "source": [
    "### returns \"True\" if a dog is detected in the image stored at img_path\n",
    "def dog_detector(img_path):\n",
    "    prediction = ResNet50_predict_labels(img_path)\n",
    "    return ((prediction <= 268) & (prediction >= 151)) "
   ]
  },
  {
   "cell_type": "markdown",
   "metadata": {},
   "source": [
    "### (IMPLEMENTATION) Assess the Dog Detector\n",
    "\n",
    "__Question 3:__ Use the code cell below to test the performance of your `dog_detector` function.  \n",
    "- What percentage of the images in `human_files_short` have a detected dog?  \n",
    "- What percentage of the images in `dog_files_short` have a detected dog?\n",
    "\n",
    "__Answer:__ "
   ]
  },
  {
   "cell_type": "code",
   "execution_count": 335,
   "metadata": {},
   "outputs": [
    {
     "name": "stdout",
     "output_type": "stream",
     "text": [
      "Detected a dog in 1.0% of human images\n",
      "Detected a dog in 100.0% of dog images\n"
     ]
    }
   ],
   "source": [
    "### TODO: Test the performance of the dog_detector function\n",
    "### on the images in human_files_short and dog_files_short.\n",
    "print(\"Detected a dog in {}% of human images\".format(\n",
    "    np.around(np.mean([dog_detector(h) for h in human_files_short]), 4) * 100\n",
    "))\n",
    "\n",
    "print(\"Detected a dog in {}% of dog images\".format(\n",
    "    np.around(np.mean([dog_detector(d) for d in dog_files_short]), 4) * 100\n",
    "))\n"
   ]
  },
  {
   "cell_type": "markdown",
   "metadata": {},
   "source": [
    "---\n",
    "<a id='step3'></a>\n",
    "## Step 3: Create a CNN to Classify Dog Breeds (from Scratch)\n",
    "\n",
    "Now that we have functions for detecting humans and dogs in images, we need a way to predict breed from images.  In this step, you will create a CNN that classifies dog breeds.  You must create your CNN _from scratch_ (so, you can't use transfer learning _yet_!), and you must attain a test accuracy of at least 1%.  In Step 5 of this notebook, you will have the opportunity to use transfer learning to create a CNN that attains greatly improved accuracy.\n",
    "\n",
    "Be careful with adding too many trainable layers!  More parameters means longer training, which means you are more likely to need a GPU to accelerate the training process.  Thankfully, Keras provides a handy estimate of the time that each epoch is likely to take; you can extrapolate this estimate to figure out how long it will take for your algorithm to train. \n",
    "\n",
    "We mention that the task of assigning breed to dogs from images is considered exceptionally challenging.  To see why, consider that *even a human* would have great difficulty in distinguishing between a Brittany and a Welsh Springer Spaniel.  \n",
    "\n",
    "Brittany | Welsh Springer Spaniel\n",
    "- | - \n",
    "<img src=\"images/Brittany_02625.jpg\" width=\"100\"> | <img src=\"images/Welsh_springer_spaniel_08203.jpg\" width=\"200\">\n",
    "\n",
    "It is not difficult to find other dog breed pairs with minimal inter-class variation (for instance, Curly-Coated Retrievers and American Water Spaniels).  \n",
    "\n",
    "Curly-Coated Retriever | American Water Spaniel\n",
    "- | -\n",
    "<img src=\"images/Curly-coated_retriever_03896.jpg\" width=\"200\"> | <img src=\"images/American_water_spaniel_00648.jpg\" width=\"200\">\n",
    "\n",
    "\n",
    "Likewise, recall that labradors come in yellow, chocolate, and black.  Your vision-based algorithm will have to conquer this high intra-class variation to determine how to classify all of these different shades as the same breed.  \n",
    "\n",
    "Yellow Labrador | Chocolate Labrador | Black Labrador\n",
    "- | -\n",
    "<img src=\"images/Labrador_retriever_06457.jpg\" width=\"150\"> | <img src=\"images/Labrador_retriever_06455.jpg\" width=\"240\"> | <img src=\"images/Labrador_retriever_06449.jpg\" width=\"220\">\n",
    "\n",
    "We also mention that random chance presents an exceptionally low bar: setting aside the fact that the classes are slightly imabalanced, a random guess will provide a correct answer roughly 1 in 133 times, which corresponds to an accuracy of less than 1%.  \n",
    "\n",
    "Remember that the practice is far ahead of the theory in deep learning.  Experiment with many different architectures, and trust your intuition.  And, of course, have fun! \n",
    "\n",
    "### Pre-process the Data\n",
    "\n",
    "We rescale the images by dividing every pixel in every image by 255."
   ]
  },
  {
   "cell_type": "code",
   "execution_count": 13,
   "metadata": {},
   "outputs": [
    {
     "name": "stderr",
     "output_type": "stream",
     "text": [
      "100%|██████████| 6680/6680 [00:52<00:00, 128.38it/s]\n",
      "100%|██████████| 835/835 [00:05<00:00, 143.19it/s]\n",
      "100%|██████████| 836/836 [00:05<00:00, 145.40it/s]\n"
     ]
    }
   ],
   "source": [
    "from PIL import ImageFile                            \n",
    "ImageFile.LOAD_TRUNCATED_IMAGES = True                 \n",
    "\n",
    "# pre-process the data for Keras\n",
    "train_tensors = paths_to_tensor(train_files).astype('float32')/255\n",
    "valid_tensors = paths_to_tensor(valid_files).astype('float32')/255\n",
    "test_tensors = paths_to_tensor(test_files).astype('float32')/255"
   ]
  },
  {
   "cell_type": "markdown",
   "metadata": {},
   "source": [
    "### (IMPLEMENTATION) Model Architecture\n",
    "\n",
    "Create a CNN to classify dog breed.  At the end of your code cell block, summarize the layers of your model by executing the line:\n",
    "    \n",
    "        model.summary()\n",
    "\n",
    "We have imported some Python modules to get you started, but feel free to import as many modules as you need.  If you end up getting stuck, here's a hint that specifies a model that trains relatively fast on CPU and attains >1% test accuracy in 5 epochs:\n",
    "\n",
    "![Sample CNN](images/sample_cnn.png)\n",
    "           \n",
    "__Question 4:__ Outline the steps you took to get to your final CNN architecture and your reasoning at each step.  If you chose to use the hinted architecture above, describe why you think that CNN architecture should work well for the image classification task.\n",
    "\n",
    "__Answer:__\n",
    "\n",
    "Since I just redeemed my AWS credits and figured out how to set up a p2.xlarge spot instance, I decided to take advantage of the GPU and go for a more complicated architecture. I find the idea of residual/skip connections fascinating, and wanted to experiment with it myself. It was also a good way to learn the Keras functional API. This setup is loosely inspired by the ResNet paper (https://arxiv.org/abs/1512.03385), although it's not nearly as deep.  Also, I am using max pooling layers, as opposed to stride 2 convolutions, for dimensionality reduction. I also studied the code in https://github.com/broadinstitute/keras-resnet, although I didn't use it directly.\n",
    "\n",
    "The model is promising – it achieved 8.32% test accuracy after 10 epochs, and was still improving. I decided to move on with the project instead of training it longer."
   ]
  },
  {
   "cell_type": "code",
   "execution_count": 35,
   "metadata": {},
   "outputs": [
    {
     "name": "stdout",
     "output_type": "stream",
     "text": [
      "____________________________________________________________________________________________________\n",
      "Layer (type)                     Output Shape          Param #     Connected to                     \n",
      "====================================================================================================\n",
      "input_14 (InputLayer)            (None, 224, 224, 3)   0                                            \n",
      "____________________________________________________________________________________________________\n",
      "conv2d_146 (Conv2D)              (None, 224, 224, 64)  256         input_14[0][0]                   \n",
      "____________________________________________________________________________________________________\n",
      "batch_normalization_40 (BatchNor (None, 224, 224, 64)  256         conv2d_146[0][0]                 \n",
      "____________________________________________________________________________________________________\n",
      "conv2d_145 (Conv2D)              (None, 224, 224, 64)  1792        input_14[0][0]                   \n",
      "____________________________________________________________________________________________________\n",
      "add_65 (Add)                     (None, 224, 224, 64)  0           batch_normalization_40[0][0]     \n",
      "                                                                   conv2d_145[0][0]                 \n",
      "____________________________________________________________________________________________________\n",
      "activation_95 (Activation)       (None, 224, 224, 64)  0           add_65[0][0]                     \n",
      "____________________________________________________________________________________________________\n",
      "max_pooling2d_22 (MaxPooling2D)  (None, 112, 112, 64)  0           activation_95[0][0]              \n",
      "____________________________________________________________________________________________________\n",
      "conv2d_149 (Conv2D)              (None, 112, 112, 128) 8320        max_pooling2d_22[0][0]           \n",
      "____________________________________________________________________________________________________\n",
      "batch_normalization_41 (BatchNor (None, 112, 112, 128) 512         conv2d_149[0][0]                 \n",
      "____________________________________________________________________________________________________\n",
      "conv2d_148 (Conv2D)              (None, 112, 112, 128) 73856       max_pooling2d_22[0][0]           \n",
      "____________________________________________________________________________________________________\n",
      "add_66 (Add)                     (None, 112, 112, 128) 0           batch_normalization_41[0][0]     \n",
      "                                                                   conv2d_148[0][0]                 \n",
      "____________________________________________________________________________________________________\n",
      "activation_96 (Activation)       (None, 112, 112, 128) 0           add_66[0][0]                     \n",
      "____________________________________________________________________________________________________\n",
      "max_pooling2d_23 (MaxPooling2D)  (None, 56, 56, 128)   0           activation_96[0][0]              \n",
      "____________________________________________________________________________________________________\n",
      "conv2d_152 (Conv2D)              (None, 56, 56, 256)   33024       max_pooling2d_23[0][0]           \n",
      "____________________________________________________________________________________________________\n",
      "batch_normalization_42 (BatchNor (None, 56, 56, 256)   1024        conv2d_152[0][0]                 \n",
      "____________________________________________________________________________________________________\n",
      "conv2d_151 (Conv2D)              (None, 56, 56, 256)   295168      max_pooling2d_23[0][0]           \n",
      "____________________________________________________________________________________________________\n",
      "add_67 (Add)                     (None, 56, 56, 256)   0           batch_normalization_42[0][0]     \n",
      "                                                                   conv2d_151[0][0]                 \n",
      "____________________________________________________________________________________________________\n",
      "activation_97 (Activation)       (None, 56, 56, 256)   0           add_67[0][0]                     \n",
      "____________________________________________________________________________________________________\n",
      "dropout_8 (Dropout)              (None, 56, 56, 256)   0           activation_97[0][0]              \n",
      "____________________________________________________________________________________________________\n",
      "global_average_pooling2d_8 (Glob (None, 256)           0           dropout_8[0][0]                  \n",
      "____________________________________________________________________________________________________\n",
      "dense_11 (Dense)                 (None, 500)           128500      global_average_pooling2d_8[0][0] \n",
      "____________________________________________________________________________________________________\n",
      "dropout_9 (Dropout)              (None, 500)           0           dense_11[0][0]                   \n",
      "____________________________________________________________________________________________________\n",
      "dense_12 (Dense)                 (None, 133)           66633       dropout_9[0][0]                  \n",
      "====================================================================================================\n",
      "Total params: 609,341\n",
      "Trainable params: 608,445\n",
      "Non-trainable params: 896\n",
      "____________________________________________________________________________________________________\n"
     ]
    }
   ],
   "source": [
    "from keras.layers import Conv2D, MaxPooling2D, GlobalAveragePooling2D, BatchNormalization\n",
    "from keras.layers import Dropout, Flatten, Dense, Input, add, Activation\n",
    "from keras.models import Sequential, Model\n",
    "\n",
    "# model = Sequential()  going to use functional API instead\n",
    "\n",
    "### TODO: Define your architecture.\n",
    "i = Input(shape=(224, 224, 3))\n",
    "\n",
    "def residual_block(input_layer, nb_filters):\n",
    "    x = Conv2D(nb_filters, (3, 3), padding=\"same\")(input_layer)\n",
    "    y = Conv2D(nb_filters, (3, 3), padding=\"same\")(input_layer)\n",
    "    s = Conv2D(nb_filters, (1, 1))(input_layer)\n",
    "    s = BatchNormalization()(s)\n",
    "    z = add([shortcut, y])\n",
    "    return Activation(\"relu\")(z)\n",
    "\n",
    "a1 = residual_block(i, 64)\n",
    "a2 = MaxPooling2D(2, (2, 2))(a1)\n",
    "\n",
    "b1 = residual_block(a2, 128)\n",
    "b2 = MaxPooling2D(2, (2, 2))(b1)\n",
    "\n",
    "c1 = residual_block(b2, 256)\n",
    "dropout1 = Dropout(0.2)(c1)\n",
    "gap = GlobalAveragePooling2D()(dropout1)\n",
    "d = Dense(500, activation=\"relu\")(gap)\n",
    "dropout2 = Dropout(0.2)(d)\n",
    "output = Dense(train_targets.shape[1], activation=\"softmax\")(dropout2)\n",
    "model = Model(inputs=i, outputs=output)\n",
    "\n",
    "\n",
    "model.summary()"
   ]
  },
  {
   "cell_type": "markdown",
   "metadata": {},
   "source": [
    "### Compile the Model"
   ]
  },
  {
   "cell_type": "code",
   "execution_count": 36,
   "metadata": {},
   "outputs": [],
   "source": [
    "model.compile(optimizer='adam', loss='categorical_crossentropy', metrics=['accuracy'])"
   ]
  },
  {
   "cell_type": "markdown",
   "metadata": {},
   "source": [
    "### (IMPLEMENTATION) Train the Model\n",
    "\n",
    "Train your model in the code cell below.  Use model checkpointing to save the model that attains the best validation loss.\n",
    "\n",
    "You are welcome to [augment the training data](https://blog.keras.io/building-powerful-image-classification-models-using-very-little-data.html), but this is not a requirement. "
   ]
  },
  {
   "cell_type": "code",
   "execution_count": 37,
   "metadata": {},
   "outputs": [
    {
     "name": "stdout",
     "output_type": "stream",
     "text": [
      "Train on 6680 samples, validate on 835 samples\n",
      "Epoch 1/10\n",
      "6660/6680 [============================>.] - ETA: 0s - loss: 4.8222 - acc: 0.0162Epoch 00000: val_loss improved from inf to 4.98066, saving model to saved_models/weights.best.from_scratch.hdf5\n",
      "6680/6680 [==============================] - 176s - loss: 4.8227 - acc: 0.0162 - val_loss: 4.9807 - val_acc: 0.0120\n",
      "Epoch 2/10\n",
      "6660/6680 [============================>.] - ETA: 0s - loss: 4.6427 - acc: 0.0261Epoch 00001: val_loss improved from 4.98066 to 4.66972, saving model to saved_models/weights.best.from_scratch.hdf5\n",
      "6680/6680 [==============================] - 173s - loss: 4.6421 - acc: 0.0260 - val_loss: 4.6697 - val_acc: 0.0275\n",
      "Epoch 3/10\n",
      "6660/6680 [============================>.] - ETA: 0s - loss: 4.4924 - acc: 0.0422Epoch 00002: val_loss improved from 4.66972 to 4.49524, saving model to saved_models/weights.best.from_scratch.hdf5\n",
      "6680/6680 [==============================] - 173s - loss: 4.4922 - acc: 0.0421 - val_loss: 4.4952 - val_acc: 0.0347\n",
      "Epoch 4/10\n",
      "6660/6680 [============================>.] - ETA: 0s - loss: 4.3605 - acc: 0.0523Epoch 00003: val_loss improved from 4.49524 to 4.49370, saving model to saved_models/weights.best.from_scratch.hdf5\n",
      "6680/6680 [==============================] - 173s - loss: 4.3602 - acc: 0.0521 - val_loss: 4.4937 - val_acc: 0.0491\n",
      "Epoch 5/10\n",
      "6660/6680 [============================>.] - ETA: 0s - loss: 4.2456 - acc: 0.0614Epoch 00004: val_loss improved from 4.49370 to 4.42119, saving model to saved_models/weights.best.from_scratch.hdf5\n",
      "6680/6680 [==============================] - 173s - loss: 4.2468 - acc: 0.0612 - val_loss: 4.4212 - val_acc: 0.0431\n",
      "Epoch 6/10\n",
      "6660/6680 [============================>.] - ETA: 0s - loss: 4.1351 - acc: 0.0794Epoch 00005: val_loss did not improve\n",
      "6680/6680 [==============================] - 173s - loss: 4.1346 - acc: 0.0795 - val_loss: 4.4425 - val_acc: 0.0479\n",
      "Epoch 7/10\n",
      "6660/6680 [============================>.] - ETA: 0s - loss: 4.0005 - acc: 0.0880Epoch 00006: val_loss improved from 4.42119 to 4.39084, saving model to saved_models/weights.best.from_scratch.hdf5\n",
      "6680/6680 [==============================] - 173s - loss: 4.0004 - acc: 0.0879 - val_loss: 4.3908 - val_acc: 0.0599\n",
      "Epoch 8/10\n",
      "6660/6680 [============================>.] - ETA: 0s - loss: 3.8856 - acc: 0.1024Epoch 00007: val_loss did not improve\n",
      "6680/6680 [==============================] - 173s - loss: 3.8848 - acc: 0.1024 - val_loss: 4.4305 - val_acc: 0.0659\n",
      "Epoch 9/10\n",
      "6660/6680 [============================>.] - ETA: 0s - loss: 3.7628 - acc: 0.1168Epoch 00008: val_loss improved from 4.39084 to 4.35755, saving model to saved_models/weights.best.from_scratch.hdf5\n",
      "6680/6680 [==============================] - 173s - loss: 3.7632 - acc: 0.1165 - val_loss: 4.3575 - val_acc: 0.0778\n",
      "Epoch 10/10\n",
      "6660/6680 [============================>.] - ETA: 0s - loss: 3.6592 - acc: 0.1311Epoch 00009: val_loss improved from 4.35755 to 4.29690, saving model to saved_models/weights.best.from_scratch.hdf5\n",
      "6680/6680 [==============================] - 173s - loss: 3.6592 - acc: 0.1308 - val_loss: 4.2969 - val_acc: 0.0946\n"
     ]
    },
    {
     "data": {
      "text/plain": [
       "<keras.callbacks.History at 0x7f141ddc6dd8>"
      ]
     },
     "execution_count": 37,
     "metadata": {},
     "output_type": "execute_result"
    }
   ],
   "source": [
    "from keras.callbacks import ModelCheckpoint  \n",
    "\n",
    "### TODO: specify the number of epochs that you would like to use to train the model.\n",
    "\n",
    "epochs = 10\n",
    "\n",
    "### Do NOT modify the code below this line.\n",
    "\n",
    "checkpointer = ModelCheckpoint(filepath='saved_models/weights.best.from_scratch.hdf5', \n",
    "                               verbose=1, save_best_only=True)\n",
    "\n",
    "model.fit(train_tensors, train_targets, \n",
    "          validation_data=(valid_tensors, valid_targets),\n",
    "          epochs=epochs, batch_size=20, callbacks=[checkpointer], verbose=1)"
   ]
  },
  {
   "cell_type": "markdown",
   "metadata": {},
   "source": [
    "### Load the Model with the Best Validation Loss"
   ]
  },
  {
   "cell_type": "code",
   "execution_count": 38,
   "metadata": {},
   "outputs": [],
   "source": [
    "model.load_weights('saved_models/weights.best.from_scratch.hdf5')"
   ]
  },
  {
   "cell_type": "markdown",
   "metadata": {},
   "source": [
    "### Test the Model\n",
    "\n",
    "Try out your model on the test dataset of dog images.  Ensure that your test accuracy is greater than 1%."
   ]
  },
  {
   "cell_type": "code",
   "execution_count": 39,
   "metadata": {},
   "outputs": [
    {
     "name": "stdout",
     "output_type": "stream",
     "text": [
      "Test accuracy: 8.3732%\n"
     ]
    }
   ],
   "source": [
    "# get index of predicted dog breed for each image in test set\n",
    "dog_breed_predictions = [np.argmax(model.predict(np.expand_dims(tensor, axis=0))) for tensor in test_tensors]\n",
    "\n",
    "# report test accuracy\n",
    "test_accuracy = 100*np.sum(np.array(dog_breed_predictions)==np.argmax(test_targets, axis=1))/len(dog_breed_predictions)\n",
    "print('Test accuracy: %.4f%%' % test_accuracy)"
   ]
  },
  {
   "cell_type": "markdown",
   "metadata": {},
   "source": [
    "---\n",
    "<a id='step4'></a>\n",
    "## Step 4: Use a CNN to Classify Dog Breeds\n",
    "\n",
    "To reduce training time without sacrificing accuracy, we show you how to train a CNN using transfer learning.  In the following step, you will get a chance to use transfer learning to train your own CNN.\n",
    "\n",
    "### Obtain Bottleneck Features"
   ]
  },
  {
   "cell_type": "code",
   "execution_count": 40,
   "metadata": {},
   "outputs": [],
   "source": [
    "bottleneck_features = np.load('bottleneck_features/DogVGG16Data.npz')\n",
    "train_VGG16 = bottleneck_features['train']\n",
    "valid_VGG16 = bottleneck_features['valid']\n",
    "test_VGG16 = bottleneck_features['test']"
   ]
  },
  {
   "cell_type": "markdown",
   "metadata": {},
   "source": [
    "### Model Architecture\n",
    "\n",
    "The model uses the the pre-trained VGG-16 model as a fixed feature extractor, where the last convolutional output of VGG-16 is fed as input to our model.  We only add a global average pooling layer and a fully connected layer, where the latter contains one node for each dog category and is equipped with a softmax."
   ]
  },
  {
   "cell_type": "code",
   "execution_count": 41,
   "metadata": {},
   "outputs": [
    {
     "name": "stdout",
     "output_type": "stream",
     "text": [
      "_________________________________________________________________\n",
      "Layer (type)                 Output Shape              Param #   \n",
      "=================================================================\n",
      "global_average_pooling2d_9 ( (None, 512)               0         \n",
      "_________________________________________________________________\n",
      "dense_13 (Dense)             (None, 133)               68229     \n",
      "=================================================================\n",
      "Total params: 68,229\n",
      "Trainable params: 68,229\n",
      "Non-trainable params: 0\n",
      "_________________________________________________________________\n"
     ]
    }
   ],
   "source": [
    "VGG16_model = Sequential()\n",
    "VGG16_model.add(GlobalAveragePooling2D(input_shape=train_VGG16.shape[1:]))\n",
    "VGG16_model.add(Dense(133, activation='softmax'))\n",
    "\n",
    "VGG16_model.summary()"
   ]
  },
  {
   "cell_type": "markdown",
   "metadata": {},
   "source": [
    "### Compile the Model"
   ]
  },
  {
   "cell_type": "code",
   "execution_count": 42,
   "metadata": {},
   "outputs": [],
   "source": [
    "VGG16_model.compile(loss='categorical_crossentropy', optimizer='rmsprop', metrics=['accuracy'])"
   ]
  },
  {
   "cell_type": "markdown",
   "metadata": {},
   "source": [
    "### Train the Model"
   ]
  },
  {
   "cell_type": "code",
   "execution_count": 43,
   "metadata": {},
   "outputs": [
    {
     "name": "stdout",
     "output_type": "stream",
     "text": [
      "Train on 6680 samples, validate on 835 samples\n",
      "Epoch 1/20\n",
      "6660/6680 [============================>.] - ETA: 0s - loss: 11.8254 - acc: 0.1294Epoch 00000: val_loss improved from inf to 9.75646, saving model to saved_models/weights.best.VGG16.hdf5\n",
      "6680/6680 [==============================] - 2s - loss: 11.8263 - acc: 0.1295 - val_loss: 9.7565 - val_acc: 0.2503\n",
      "Epoch 2/20\n",
      "6480/6680 [============================>.] - ETA: 0s - loss: 8.9461 - acc: 0.3267Epoch 00001: val_loss improved from 9.75646 to 8.69339, saving model to saved_models/weights.best.VGG16.hdf5\n",
      "6680/6680 [==============================] - 1s - loss: 8.9303 - acc: 0.3284 - val_loss: 8.6934 - val_acc: 0.3329\n",
      "Epoch 3/20\n",
      "6560/6680 [============================>.] - ETA: 0s - loss: 8.2787 - acc: 0.4127Epoch 00002: val_loss improved from 8.69339 to 8.47544, saving model to saved_models/weights.best.VGG16.hdf5\n",
      "6680/6680 [==============================] - 1s - loss: 8.3095 - acc: 0.4109 - val_loss: 8.4754 - val_acc: 0.3856\n",
      "Epoch 4/20\n",
      "6460/6680 [============================>.] - ETA: 0s - loss: 7.9784 - acc: 0.4444Epoch 00003: val_loss improved from 8.47544 to 8.24238, saving model to saved_models/weights.best.VGG16.hdf5\n",
      "6680/6680 [==============================] - 1s - loss: 7.9615 - acc: 0.4445 - val_loss: 8.2424 - val_acc: 0.4120\n",
      "Epoch 5/20\n",
      "6460/6680 [============================>.] - ETA: 0s - loss: 7.7938 - acc: 0.4703Epoch 00004: val_loss did not improve\n",
      "6680/6680 [==============================] - 1s - loss: 7.7876 - acc: 0.4710 - val_loss: 8.2558 - val_acc: 0.4204\n",
      "Epoch 6/20\n",
      "6620/6680 [============================>.] - ETA: 0s - loss: 7.6664 - acc: 0.4903Epoch 00005: val_loss improved from 8.24238 to 8.05800, saving model to saved_models/weights.best.VGG16.hdf5\n",
      "6680/6680 [==============================] - 1s - loss: 7.6784 - acc: 0.4895 - val_loss: 8.0580 - val_acc: 0.4156\n",
      "Epoch 7/20\n",
      "6600/6680 [============================>.] - ETA: 0s - loss: 7.5296 - acc: 0.5050Epoch 00006: val_loss did not improve\n",
      "6680/6680 [==============================] - 1s - loss: 7.5291 - acc: 0.5049 - val_loss: 8.0969 - val_acc: 0.4216\n",
      "Epoch 8/20\n",
      "6560/6680 [============================>.] - ETA: 0s - loss: 7.3656 - acc: 0.5195Epoch 00007: val_loss improved from 8.05800 to 7.88193, saving model to saved_models/weights.best.VGG16.hdf5\n",
      "6680/6680 [==============================] - 1s - loss: 7.3732 - acc: 0.5189 - val_loss: 7.8819 - val_acc: 0.4407\n",
      "Epoch 9/20\n",
      "6540/6680 [============================>.] - ETA: 0s - loss: 7.2585 - acc: 0.5289Epoch 00008: val_loss improved from 7.88193 to 7.85728, saving model to saved_models/weights.best.VGG16.hdf5\n",
      "6680/6680 [==============================] - 1s - loss: 7.2488 - acc: 0.5298 - val_loss: 7.8573 - val_acc: 0.4431\n",
      "Epoch 10/20\n",
      "6520/6680 [============================>.] - ETA: 0s - loss: 6.9381 - acc: 0.5474Epoch 00009: val_loss improved from 7.85728 to 7.57590, saving model to saved_models/weights.best.VGG16.hdf5\n",
      "6680/6680 [==============================] - 1s - loss: 6.9687 - acc: 0.5458 - val_loss: 7.5759 - val_acc: 0.4575\n",
      "Epoch 11/20\n",
      "6620/6680 [============================>.] - ETA: 0s - loss: 6.8744 - acc: 0.5562Epoch 00010: val_loss did not improve\n",
      "6680/6680 [==============================] - 1s - loss: 6.8681 - acc: 0.5567 - val_loss: 7.5803 - val_acc: 0.4551\n",
      "Epoch 12/20\n",
      "6600/6680 [============================>.] - ETA: 0s - loss: 6.8211 - acc: 0.5652Epoch 00011: val_loss improved from 7.57590 to 7.50787, saving model to saved_models/weights.best.VGG16.hdf5\n",
      "6680/6680 [==============================] - 1s - loss: 6.8218 - acc: 0.5650 - val_loss: 7.5079 - val_acc: 0.4611\n",
      "Epoch 13/20\n",
      "6660/6680 [============================>.] - ETA: 0s - loss: 6.6994 - acc: 0.5689Epoch 00012: val_loss improved from 7.50787 to 7.35823, saving model to saved_models/weights.best.VGG16.hdf5\n",
      "6680/6680 [==============================] - 1s - loss: 6.6968 - acc: 0.5690 - val_loss: 7.3582 - val_acc: 0.4671\n",
      "Epoch 14/20\n",
      "6660/6680 [============================>.] - ETA: 0s - loss: 6.5137 - acc: 0.5812Epoch 00013: val_loss improved from 7.35823 to 7.21817, saving model to saved_models/weights.best.VGG16.hdf5\n",
      "6680/6680 [==============================] - 1s - loss: 6.5116 - acc: 0.5813 - val_loss: 7.2182 - val_acc: 0.4862\n",
      "Epoch 15/20\n",
      "6560/6680 [============================>.] - ETA: 0s - loss: 6.4389 - acc: 0.5878Epoch 00014: val_loss improved from 7.21817 to 7.19193, saving model to saved_models/weights.best.VGG16.hdf5\n",
      "6680/6680 [==============================] - 1s - loss: 6.4299 - acc: 0.5885 - val_loss: 7.1919 - val_acc: 0.4695\n",
      "Epoch 16/20\n",
      "6440/6680 [===========================>..] - ETA: 0s - loss: 6.3029 - acc: 0.5984Epoch 00015: val_loss improved from 7.19193 to 7.00683, saving model to saved_models/weights.best.VGG16.hdf5\n",
      "6680/6680 [==============================] - 1s - loss: 6.3225 - acc: 0.5972 - val_loss: 7.0068 - val_acc: 0.4934\n",
      "Epoch 17/20\n",
      "6460/6680 [============================>.] - ETA: 0s - loss: 6.2786 - acc: 0.6008Epoch 00016: val_loss improved from 7.00683 to 6.98601, saving model to saved_models/weights.best.VGG16.hdf5\n",
      "6680/6680 [==============================] - 1s - loss: 6.2737 - acc: 0.6010 - val_loss: 6.9860 - val_acc: 0.4862\n",
      "Epoch 18/20\n",
      "6580/6680 [============================>.] - ETA: 0s - loss: 6.1985 - acc: 0.6078Epoch 00017: val_loss did not improve\n",
      "6680/6680 [==============================] - 1s - loss: 6.1983 - acc: 0.6078 - val_loss: 7.0697 - val_acc: 0.4994\n",
      "Epoch 19/20\n",
      "6480/6680 [============================>.] - ETA: 0s - loss: 6.1703 - acc: 0.6100Epoch 00018: val_loss did not improve\n",
      "6680/6680 [==============================] - 1s - loss: 6.1637 - acc: 0.6102 - val_loss: 7.0110 - val_acc: 0.4958\n",
      "Epoch 20/20\n",
      "6640/6680 [============================>.] - ETA: 0s - loss: 6.1012 - acc: 0.6119Epoch 00019: val_loss improved from 6.98601 to 6.84308, saving model to saved_models/weights.best.VGG16.hdf5\n",
      "6680/6680 [==============================] - 1s - loss: 6.1011 - acc: 0.6118 - val_loss: 6.8431 - val_acc: 0.4910\n"
     ]
    },
    {
     "data": {
      "text/plain": [
       "<keras.callbacks.History at 0x7f141d6ca0b8>"
      ]
     },
     "execution_count": 43,
     "metadata": {},
     "output_type": "execute_result"
    }
   ],
   "source": [
    "checkpointer = ModelCheckpoint(filepath='saved_models/weights.best.VGG16.hdf5', \n",
    "                               verbose=1, save_best_only=True)\n",
    "\n",
    "VGG16_model.fit(train_VGG16, train_targets, \n",
    "          validation_data=(valid_VGG16, valid_targets),\n",
    "          epochs=20, batch_size=20, callbacks=[checkpointer], verbose=1)"
   ]
  },
  {
   "cell_type": "markdown",
   "metadata": {},
   "source": [
    "### Load the Model with the Best Validation Loss"
   ]
  },
  {
   "cell_type": "code",
   "execution_count": 44,
   "metadata": {},
   "outputs": [],
   "source": [
    "VGG16_model.load_weights('saved_models/weights.best.VGG16.hdf5')"
   ]
  },
  {
   "cell_type": "markdown",
   "metadata": {},
   "source": [
    "### Test the Model\n",
    "\n",
    "Now, we can use the CNN to test how well it identifies breed within our test dataset of dog images.  We print the test accuracy below."
   ]
  },
  {
   "cell_type": "code",
   "execution_count": 45,
   "metadata": {},
   "outputs": [
    {
     "name": "stdout",
     "output_type": "stream",
     "text": [
      "Test accuracy: 50.1196%\n"
     ]
    }
   ],
   "source": [
    "# get index of predicted dog breed for each image in test set\n",
    "VGG16_predictions = [np.argmax(VGG16_model.predict(np.expand_dims(feature, axis=0))) for feature in test_VGG16]\n",
    "\n",
    "# report test accuracy\n",
    "test_accuracy = 100*np.sum(np.array(VGG16_predictions)==np.argmax(test_targets, axis=1))/len(VGG16_predictions)\n",
    "print('Test accuracy: %.4f%%' % test_accuracy)"
   ]
  },
  {
   "cell_type": "markdown",
   "metadata": {},
   "source": [
    "### Predict Dog Breed with the Model"
   ]
  },
  {
   "cell_type": "code",
   "execution_count": 46,
   "metadata": {},
   "outputs": [],
   "source": [
    "from extract_bottleneck_features import *\n",
    "\n",
    "def VGG16_predict_breed(img_path):\n",
    "    # extract bottleneck features\n",
    "    bottleneck_feature = extract_VGG16(path_to_tensor(img_path))\n",
    "    # obtain predicted vector\n",
    "    predicted_vector = VGG16_model.predict(bottleneck_feature)\n",
    "    # return dog breed that is predicted by the model\n",
    "    return dog_names[np.argmax(predicted_vector)]"
   ]
  },
  {
   "cell_type": "markdown",
   "metadata": {},
   "source": [
    "---\n",
    "<a id='step5'></a>\n",
    "## Step 5: Create a CNN to Classify Dog Breeds (using Transfer Learning)\n",
    "\n",
    "You will now use transfer learning to create a CNN that can identify dog breed from images.  Your CNN must attain at least 60% accuracy on the test set.\n",
    "\n",
    "In Step 4, we used transfer learning to create a CNN using VGG-16 bottleneck features.  In this section, you must use the bottleneck features from a different pre-trained model.  To make things easier for you, we have pre-computed the features for all of the networks that are currently available in Keras:\n",
    "- [VGG-19](https://s3-us-west-1.amazonaws.com/udacity-aind/dog-project/DogVGG19Data.npz) bottleneck features\n",
    "- [ResNet-50](https://s3-us-west-1.amazonaws.com/udacity-aind/dog-project/DogResnet50Data.npz) bottleneck features\n",
    "- [Inception](https://s3-us-west-1.amazonaws.com/udacity-aind/dog-project/DogInceptionV3Data.npz) bottleneck features\n",
    "- [Xception](https://s3-us-west-1.amazonaws.com/udacity-aind/dog-project/DogXceptionData.npz) bottleneck features\n",
    "\n",
    "The files are encoded as such:\n",
    "\n",
    "    Dog{network}Data.npz\n",
    "    \n",
    "where `{network}`, in the above filename, can be one of `VGG19`, `Resnet50`, `InceptionV3`, or `Xception`.  Pick one of the above architectures, download the corresponding bottleneck features, and store the downloaded file in the `bottleneck_features/` folder in the repository.\n",
    "\n",
    "### (IMPLEMENTATION) Obtain Bottleneck Features\n",
    "\n",
    "In the code block below, extract the bottleneck features corresponding to the train, test, and validation sets by running the following:\n",
    "\n",
    "    bottleneck_features = np.load('bottleneck_features/Dog{network}Data.npz')\n",
    "    train_{network} = bottleneck_features['train']\n",
    "    valid_{network} = bottleneck_features['valid']\n",
    "    test_{network} = bottleneck_features['test']"
   ]
  },
  {
   "cell_type": "code",
   "execution_count": 47,
   "metadata": {},
   "outputs": [],
   "source": [
    "### TODO: Obtain bottleneck features from another pre-trained CNN.\n",
    "bottleneck_features = np.load('bottleneck_features/DogXceptionData.npz')\n",
    "train_xception = bottleneck_features['train']\n",
    "valid_xception = bottleneck_features['valid']\n",
    "test_xception = bottleneck_features['test']"
   ]
  },
  {
   "cell_type": "markdown",
   "metadata": {},
   "source": [
    "### (IMPLEMENTATION) Model Architecture\n",
    "\n",
    "Create a CNN to classify dog breed.  At the end of your code cell block, summarize the layers of your model by executing the line:\n",
    "    \n",
    "        <your model's name>.summary()\n",
    "   \n",
    "__Question 5:__ Outline the steps you took to get to your final CNN architecture and your reasoning at each step.  Describe why you think the architecture is suitable for the current problem.\n",
    "\n",
    "__Answer:__ \n",
    "\n",
    "I chose to use Xception features, it's a state-of-the-art model that uses inception blocks as well as ResNet-style skip connections.\n",
    "\n",
    "For my fine-tuning layers, I started with the same setup as the example. I tried a few different things:\n",
    "\n",
    "* Adding an additional dense layer\n",
    "* Using Flatten() instead of global average pooling\n",
    "\n",
    "These didn't seem to improve performance. It seems that the model is overfitting, so I added 50% dropout before the final classification layer, which seemed to help slightly.\n",
    "\n",
    "I also played with some training hyperparameters, some of which seemed to make a difference:\n",
    "\n",
    "* Used larger batch size\n",
    "* used adam optimizer\n",
    "* added a \"reduce learning rate on plateau\" callback (this didn't actually seem to help)\n",
    "\n",
    "I think that overall, this is a good architecture. It doesn't seem like adding more layers/parameters will help much, because training accuracy is already near 99% (so the model is not underfitting).\n",
    "\n"
   ]
  },
  {
   "cell_type": "code",
   "execution_count": 147,
   "metadata": {},
   "outputs": [
    {
     "name": "stdout",
     "output_type": "stream",
     "text": [
      "_________________________________________________________________\n",
      "Layer (type)                 Output Shape              Param #   \n",
      "=================================================================\n",
      "global_average_pooling2d_33  (None, 2048)              0         \n",
      "_________________________________________________________________\n",
      "dropout_36 (Dropout)         (None, 2048)              0         \n",
      "_________________________________________________________________\n",
      "dense_61 (Dense)             (None, 133)               272517    \n",
      "=================================================================\n",
      "Total params: 272,517\n",
      "Trainable params: 272,517\n",
      "Non-trainable params: 0\n",
      "_________________________________________________________________\n"
     ]
    }
   ],
   "source": [
    "### TODO: Define your architecture.\n",
    "xception_model = Sequential()\n",
    "xception_model.add(GlobalAveragePooling2D(input_shape=train_xception.shape[1:]))\n",
    "xception_model.add(Dropout(0.5))\n",
    "xception_model.add(Dense(133, activation='softmax'))\n",
    "\n",
    "xception_model.summary()"
   ]
  },
  {
   "cell_type": "markdown",
   "metadata": {},
   "source": [
    "### (IMPLEMENTATION) Compile the Model"
   ]
  },
  {
   "cell_type": "code",
   "execution_count": 148,
   "metadata": {},
   "outputs": [],
   "source": [
    "### TODO: Compile the model.\n",
    "\n",
    "xception_model.compile(loss='categorical_crossentropy', optimizer='adam', metrics=['accuracy'])"
   ]
  },
  {
   "cell_type": "markdown",
   "metadata": {},
   "source": [
    "### (IMPLEMENTATION) Train the Model\n",
    "\n",
    "Train your model in the code cell below.  Use model checkpointing to save the model that attains the best validation loss.  \n",
    "\n",
    "You are welcome to [augment the training data](https://blog.keras.io/building-powerful-image-classification-models-using-very-little-data.html), but this is not a requirement. "
   ]
  },
  {
   "cell_type": "code",
   "execution_count": 149,
   "metadata": {
    "scrolled": false
   },
   "outputs": [
    {
     "name": "stdout",
     "output_type": "stream",
     "text": [
      "Train on 6680 samples, validate on 835 samples\n",
      "Epoch 1/40\n",
      "6600/6680 [============================>.] - ETA: 0s - loss: 3.3967 - acc: 0.3453Epoch 00000: val_loss improved from inf to 1.58951, saving model to saved_models/weights.best.xception.hdf5\n",
      "6680/6680 [==============================] - 3s - loss: 3.3769 - acc: 0.3497 - val_loss: 1.5895 - val_acc: 0.7269\n",
      "Epoch 2/40\n",
      "6600/6680 [============================>.] - ETA: 0s - loss: 1.1387 - acc: 0.7617Epoch 00001: val_loss improved from 1.58951 to 0.77478, saving model to saved_models/weights.best.xception.hdf5\n",
      "6680/6680 [==============================] - 2s - loss: 1.1353 - acc: 0.7617 - val_loss: 0.7748 - val_acc: 0.8156\n",
      "Epoch 3/40\n",
      "6600/6680 [============================>.] - ETA: 0s - loss: 0.6788 - acc: 0.8352Epoch 00002: val_loss improved from 0.77478 to 0.60875, saving model to saved_models/weights.best.xception.hdf5\n",
      "6680/6680 [==============================] - 2s - loss: 0.6757 - acc: 0.8364 - val_loss: 0.6087 - val_acc: 0.8395\n",
      "Epoch 4/40\n",
      "6600/6680 [============================>.] - ETA: 0s - loss: 0.5381 - acc: 0.8644Epoch 00003: val_loss improved from 0.60875 to 0.54481, saving model to saved_models/weights.best.xception.hdf5\n",
      "6680/6680 [==============================] - 2s - loss: 0.5386 - acc: 0.8638 - val_loss: 0.5448 - val_acc: 0.8587\n",
      "Epoch 5/40\n",
      "6600/6680 [============================>.] - ETA: 0s - loss: 0.4654 - acc: 0.8771Epoch 00004: val_loss improved from 0.54481 to 0.51181, saving model to saved_models/weights.best.xception.hdf5\n",
      "6680/6680 [==============================] - 2s - loss: 0.4642 - acc: 0.8774 - val_loss: 0.5118 - val_acc: 0.8599\n",
      "Epoch 6/40\n",
      "6600/6680 [============================>.] - ETA: 0s - loss: 0.4098 - acc: 0.8958Epoch 00005: val_loss improved from 0.51181 to 0.48717, saving model to saved_models/weights.best.xception.hdf5\n",
      "6680/6680 [==============================] - 2s - loss: 0.4093 - acc: 0.8961 - val_loss: 0.4872 - val_acc: 0.8635\n",
      "Epoch 7/40\n",
      "6600/6680 [============================>.] - ETA: 0s - loss: 0.3715 - acc: 0.9011Epoch 00006: val_loss improved from 0.48717 to 0.46998, saving model to saved_models/weights.best.xception.hdf5\n",
      "6680/6680 [==============================] - 2s - loss: 0.3723 - acc: 0.9004 - val_loss: 0.4700 - val_acc: 0.8611\n",
      "Epoch 8/40\n",
      "6600/6680 [============================>.] - ETA: 0s - loss: 0.3401 - acc: 0.9103Epoch 00007: val_loss improved from 0.46998 to 0.45196, saving model to saved_models/weights.best.xception.hdf5\n",
      "6680/6680 [==============================] - 2s - loss: 0.3398 - acc: 0.9106 - val_loss: 0.4520 - val_acc: 0.8599\n",
      "Epoch 9/40\n",
      "6600/6680 [============================>.] - ETA: 0s - loss: 0.3124 - acc: 0.9185Epoch 00008: val_loss improved from 0.45196 to 0.44935, saving model to saved_models/weights.best.xception.hdf5\n",
      "6680/6680 [==============================] - 2s - loss: 0.3124 - acc: 0.9187 - val_loss: 0.4493 - val_acc: 0.8611\n",
      "Epoch 10/40\n",
      "6600/6680 [============================>.] - ETA: 0s - loss: 0.2825 - acc: 0.9288Epoch 00009: val_loss improved from 0.44935 to 0.43929, saving model to saved_models/weights.best.xception.hdf5\n",
      "6680/6680 [==============================] - 2s - loss: 0.2821 - acc: 0.9289 - val_loss: 0.4393 - val_acc: 0.8647\n",
      "Epoch 11/40\n",
      "6600/6680 [============================>.] - ETA: 0s - loss: 0.2649 - acc: 0.9298Epoch 00010: val_loss improved from 0.43929 to 0.43813, saving model to saved_models/weights.best.xception.hdf5\n",
      "6680/6680 [==============================] - 2s - loss: 0.2656 - acc: 0.9290 - val_loss: 0.4381 - val_acc: 0.8599\n",
      "Epoch 12/40\n",
      "6600/6680 [============================>.] - ETA: 0s - loss: 0.2502 - acc: 0.9347Epoch 00011: val_loss improved from 0.43813 to 0.42539, saving model to saved_models/weights.best.xception.hdf5\n",
      "6680/6680 [==============================] - 2s - loss: 0.2500 - acc: 0.9349 - val_loss: 0.4254 - val_acc: 0.8671\n",
      "Epoch 13/40\n",
      "6600/6680 [============================>.] - ETA: 0s - loss: 0.2360 - acc: 0.9391Epoch 00012: val_loss did not improve\n",
      "6680/6680 [==============================] - 2s - loss: 0.2358 - acc: 0.9392 - val_loss: 0.4257 - val_acc: 0.8671\n",
      "Epoch 14/40\n",
      "6600/6680 [============================>.] - ETA: 0s - loss: 0.2182 - acc: 0.9452Epoch 00013: val_loss improved from 0.42539 to 0.42478, saving model to saved_models/weights.best.xception.hdf5\n",
      "6680/6680 [==============================] - 2s - loss: 0.2178 - acc: 0.9452 - val_loss: 0.4248 - val_acc: 0.8659\n",
      "Epoch 15/40\n",
      "6600/6680 [============================>.] - ETA: 0s - loss: 0.2071 - acc: 0.9485Epoch 00014: val_loss improved from 0.42478 to 0.42119, saving model to saved_models/weights.best.xception.hdf5\n",
      "6680/6680 [==============================] - 2s - loss: 0.2065 - acc: 0.9490 - val_loss: 0.4212 - val_acc: 0.8659\n",
      "Epoch 16/40\n",
      "6600/6680 [============================>.] - ETA: 0s - loss: 0.1933 - acc: 0.9553Epoch 00015: val_loss improved from 0.42119 to 0.41477, saving model to saved_models/weights.best.xception.hdf5\n",
      "6680/6680 [==============================] - 2s - loss: 0.1933 - acc: 0.9554 - val_loss: 0.4148 - val_acc: 0.8659\n",
      "Epoch 17/40\n",
      "6600/6680 [============================>.] - ETA: 0s - loss: 0.1871 - acc: 0.9571Epoch 00016: val_loss did not improve\n",
      "6680/6680 [==============================] - 2s - loss: 0.1868 - acc: 0.9572 - val_loss: 0.4150 - val_acc: 0.8647\n",
      "Epoch 18/40\n",
      "6600/6680 [============================>.] - ETA: 0s - loss: 0.1751 - acc: 0.9606Epoch 00017: val_loss did not improve\n",
      "6680/6680 [==============================] - 2s - loss: 0.1752 - acc: 0.9606 - val_loss: 0.4165 - val_acc: 0.8659\n",
      "Epoch 19/40\n",
      "6600/6680 [============================>.] - ETA: 0s - loss: 0.1647 - acc: 0.9642Epoch 00018: val_loss did not improve\n",
      "6680/6680 [==============================] - 2s - loss: 0.1648 - acc: 0.9639 - val_loss: 0.4156 - val_acc: 0.8683\n",
      "Epoch 20/40\n",
      "6600/6680 [============================>.] - ETA: 0s - loss: 0.1584 - acc: 0.9658Epoch 00019: val_loss improved from 0.41477 to 0.41376, saving model to saved_models/weights.best.xception.hdf5\n",
      "6680/6680 [==============================] - 2s - loss: 0.1588 - acc: 0.9656 - val_loss: 0.4138 - val_acc: 0.8683\n",
      "Epoch 21/40\n",
      "6600/6680 [============================>.] - ETA: 0s - loss: 0.1517 - acc: 0.9661Epoch 00020: val_loss improved from 0.41376 to 0.41217, saving model to saved_models/weights.best.xception.hdf5\n",
      "6680/6680 [==============================] - 2s - loss: 0.1518 - acc: 0.9657 - val_loss: 0.4122 - val_acc: 0.8683\n",
      "Epoch 22/40\n",
      "6600/6680 [============================>.] - ETA: 0s - loss: 0.1469 - acc: 0.9688Epoch 00021: val_loss did not improve\n",
      "6680/6680 [==============================] - 2s - loss: 0.1467 - acc: 0.9690 - val_loss: 0.4140 - val_acc: 0.8671\n",
      "Epoch 23/40\n",
      "6600/6680 [============================>.] - ETA: 0s - loss: 0.1380 - acc: 0.9709Epoch 00022: val_loss improved from 0.41217 to 0.41023, saving model to saved_models/weights.best.xception.hdf5\n",
      "6680/6680 [==============================] - 2s - loss: 0.1379 - acc: 0.9707 - val_loss: 0.4102 - val_acc: 0.8683\n",
      "Epoch 24/40\n",
      "6600/6680 [============================>.] - ETA: 0s - loss: 0.1319 - acc: 0.9706Epoch 00023: val_loss did not improve\n",
      "6680/6680 [==============================] - 2s - loss: 0.1315 - acc: 0.9708 - val_loss: 0.4149 - val_acc: 0.8683\n",
      "Epoch 25/40\n",
      "6600/6680 [============================>.] - ETA: 0s - loss: 0.1264 - acc: 0.9744Epoch 00024: val_loss did not improve\n",
      "6680/6680 [==============================] - 2s - loss: 0.1262 - acc: 0.9746 - val_loss: 0.4138 - val_acc: 0.8707\n",
      "Epoch 26/40\n",
      "6600/6680 [============================>.] - ETA: 0s - loss: 0.1245 - acc: 0.9750Epoch 00025: val_loss improved from 0.41023 to 0.40852, saving model to saved_models/weights.best.xception.hdf5\n",
      "6680/6680 [==============================] - 2s - loss: 0.1241 - acc: 0.9753 - val_loss: 0.4085 - val_acc: 0.8683\n",
      "Epoch 27/40\n",
      "6600/6680 [============================>.] - ETA: 0s - loss: 0.1135 - acc: 0.9809Epoch 00026: val_loss improved from 0.40852 to 0.40718, saving model to saved_models/weights.best.xception.hdf5\n",
      "6680/6680 [==============================] - 2s - loss: 0.1142 - acc: 0.9807 - val_loss: 0.4072 - val_acc: 0.8671\n",
      "Epoch 28/40\n",
      "6600/6680 [============================>.] - ETA: 0s - loss: 0.1130 - acc: 0.9785Epoch 00027: val_loss did not improve\n",
      "6680/6680 [==============================] - 2s - loss: 0.1127 - acc: 0.9787 - val_loss: 0.4170 - val_acc: 0.8707\n",
      "Epoch 29/40\n",
      "6600/6680 [============================>.] - ETA: 0s - loss: 0.1122 - acc: 0.9773Epoch 00028: val_loss did not improve\n",
      "6680/6680 [==============================] - 2s - loss: 0.1125 - acc: 0.9771 - val_loss: 0.4106 - val_acc: 0.8659\n",
      "Epoch 30/40\n",
      "6600/6680 [============================>.] - ETA: 0s - loss: 0.1053 - acc: 0.9792Epoch 00029: val_loss did not improve\n",
      "6680/6680 [==============================] - 2s - loss: 0.1051 - acc: 0.9793 - val_loss: 0.4137 - val_acc: 0.8659\n",
      "Epoch 31/40\n",
      "6600/6680 [============================>.] - ETA: 0s - loss: 0.0989 - acc: 0.9847Epoch 00030: val_loss did not improve\n",
      "6680/6680 [==============================] - 2s - loss: 0.0986 - acc: 0.9849 - val_loss: 0.4138 - val_acc: 0.8659\n",
      "Epoch 32/40\n",
      "6600/6680 [============================>.] - ETA: 0s - loss: 0.0965 - acc: 0.9832Epoch 00031: val_loss did not improve\n",
      "6680/6680 [==============================] - 2s - loss: 0.0963 - acc: 0.9832 - val_loss: 0.4136 - val_acc: 0.8671\n",
      "Epoch 33/40\n",
      "6600/6680 [============================>.] - ETA: 0s - loss: 0.0982 - acc: 0.9814Epoch 00032: val_loss did not improve\n",
      "6680/6680 [==============================] - 2s - loss: 0.0978 - acc: 0.9816 - val_loss: 0.4186 - val_acc: 0.8659\n",
      "Epoch 34/40\n",
      "6600/6680 [============================>.] - ETA: 0s - loss: 0.0901 - acc: 0.9855Epoch 00033: val_loss did not improve\n",
      "6680/6680 [==============================] - 2s - loss: 0.0908 - acc: 0.9852 - val_loss: 0.4177 - val_acc: 0.8635\n",
      "Epoch 35/40\n",
      "6600/6680 [============================>.] - ETA: 0s - loss: 0.0924 - acc: 0.9824Epoch 00034: val_loss did not improve\n",
      "6680/6680 [==============================] - 2s - loss: 0.0924 - acc: 0.9825 - val_loss: 0.4161 - val_acc: 0.8683\n",
      "Epoch 36/40\n",
      "6600/6680 [============================>.] - ETA: 0s - loss: 0.0865 - acc: 0.9832Epoch 00035: val_loss did not improve\n",
      "6680/6680 [==============================] - 2s - loss: 0.0864 - acc: 0.9834 - val_loss: 0.4165 - val_acc: 0.8635\n",
      "Epoch 37/40\n",
      "6600/6680 [============================>.] - ETA: 0s - loss: 0.0855 - acc: 0.9858Epoch 00036: val_loss did not improve\n",
      "6680/6680 [==============================] - 2s - loss: 0.0856 - acc: 0.9856 - val_loss: 0.4189 - val_acc: 0.8683\n",
      "Epoch 38/40\n",
      "6600/6680 [============================>.] - ETA: 0s - loss: 0.0850 - acc: 0.9852Epoch 00037: val_loss did not improve\n",
      "6680/6680 [==============================] - 2s - loss: 0.0850 - acc: 0.9849 - val_loss: 0.4175 - val_acc: 0.8647\n",
      "Epoch 39/40\n",
      "6600/6680 [============================>.] - ETA: 0s - loss: 0.0796 - acc: 0.9870Epoch 00038: val_loss did not improve\n",
      "6680/6680 [==============================] - 2s - loss: 0.0797 - acc: 0.9868 - val_loss: 0.4192 - val_acc: 0.8671\n",
      "Epoch 40/40\n",
      "6600/6680 [============================>.] - ETA: 0s - loss: 0.0778 - acc: 0.9870Epoch 00039: val_loss did not improve\n",
      "6680/6680 [==============================] - 2s - loss: 0.0777 - acc: 0.9870 - val_loss: 0.4219 - val_acc: 0.8635\n"
     ]
    },
    {
     "data": {
      "text/plain": [
       "<keras.callbacks.History at 0x7f13fb6f4198>"
      ]
     },
     "execution_count": 149,
     "metadata": {},
     "output_type": "execute_result"
    }
   ],
   "source": [
    "### TODO: Train the model.\n",
    "from keras.callbacks import ReduceLROnPlateau\n",
    "\n",
    "checkpointer = ModelCheckpoint(filepath='saved_models/weights.best.xception.hdf5', \n",
    "                               verbose=1, save_best_only=True)\n",
    "\n",
    "lr_reducer = ReduceLROnPlateau(factor=0.1, patience=20, verbose=1)\n",
    "\n",
    "xception_model.fit(train_xception, train_targets, \n",
    "          validation_data=(valid_xception, valid_targets),\n",
    "          epochs=40, batch_size=300, callbacks=[checkpointer, lr_reducer], verbose=1)"
   ]
  },
  {
   "cell_type": "markdown",
   "metadata": {},
   "source": [
    "### (IMPLEMENTATION) Load the Model with the Best Validation Loss"
   ]
  },
  {
   "cell_type": "code",
   "execution_count": null,
   "metadata": {
    "collapsed": true
   },
   "outputs": [],
   "source": [
    "### TODO: Load the model weights with the best validation loss.\n",
    "xception_model.load_weights('saved_models/weights.best.xception.hdf5')"
   ]
  },
  {
   "cell_type": "markdown",
   "metadata": {},
   "source": [
    "### (IMPLEMENTATION) Test the Model\n",
    "\n",
    "Try out your model on the test dataset of dog images. Ensure that your test accuracy is greater than 60%."
   ]
  },
  {
   "cell_type": "code",
   "execution_count": 150,
   "metadata": {},
   "outputs": [
    {
     "name": "stdout",
     "output_type": "stream",
     "text": [
      "Test accuracy: 85.5263%\n"
     ]
    }
   ],
   "source": [
    "### TODO: Calculate classification accuracy on the test dataset.\n",
    "# get index of predicted dog breed for each image in test set\n",
    "xception_predictions = [np.argmax(xception_model.predict(np.expand_dims(feature, axis=0))) for feature in test_xception]\n",
    "\n",
    "# report test accuracy\n",
    "test_accuracy = 100*np.sum(np.array(xception_predictions)==np.argmax(test_targets, axis=1))/len(xception_predictions)\n",
    "print('Test accuracy: %.4f%%' % test_accuracy)"
   ]
  },
  {
   "cell_type": "markdown",
   "metadata": {},
   "source": [
    "### (IMPLEMENTATION) Predict Dog Breed with the Model\n",
    "\n",
    "Write a function that takes an image path as input and returns the dog breed (`Affenpinscher`, `Afghan_hound`, etc) that is predicted by your model.  \n",
    "\n",
    "Similar to the analogous function in Step 5, your function should have three steps:\n",
    "1. Extract the bottleneck features corresponding to the chosen CNN model.\n",
    "2. Supply the bottleneck features as input to the model to return the predicted vector.  Note that the argmax of this prediction vector gives the index of the predicted dog breed.\n",
    "3. Use the `dog_names` array defined in Step 0 of this notebook to return the corresponding breed.\n",
    "\n",
    "The functions to extract the bottleneck features can be found in `extract_bottleneck_features.py`, and they have been imported in an earlier code cell.  To obtain the bottleneck features corresponding to your chosen CNN architecture, you need to use the function\n",
    "\n",
    "    extract_{network}\n",
    "    \n",
    "where `{network}`, in the above filename, should be one of `VGG19`, `Resnet50`, `InceptionV3`, or `Xception`."
   ]
  },
  {
   "cell_type": "code",
   "execution_count": 154,
   "metadata": {},
   "outputs": [
    {
     "data": {
      "text/plain": [
       "'Dalmatian'"
      ]
     },
     "execution_count": 154,
     "metadata": {},
     "output_type": "execute_result"
    }
   ],
   "source": [
    "### TODO: Write a function that takes a path to an image as input\n",
    "### and returns the dog breed that is predicted by the model.\n",
    "\n",
    "def xception_predict_breed(img_path):\n",
    "    # extract bottleneck features\n",
    "    bottleneck_feature = extract_Xception(path_to_tensor(img_path))\n",
    "    # obtain predicted vector\n",
    "    predicted_vector = xception_model.predict(bottleneck_feature)\n",
    "    # return dog breed that is predicted by the model\n",
    "    return dog_names[np.argmax(predicted_vector)]\n",
    "\n",
    "xception_predict_breed(test_files[0])"
   ]
  },
  {
   "cell_type": "markdown",
   "metadata": {},
   "source": [
    "---\n",
    "<a id='step6'></a>\n",
    "## Step 6: Write your Algorithm\n",
    "\n",
    "Write an algorithm that accepts a file path to an image and first determines whether the image contains a human, dog, or neither.  Then,\n",
    "- if a __dog__ is detected in the image, return the predicted breed.\n",
    "- if a __human__ is detected in the image, return the resembling dog breed.\n",
    "- if __neither__ is detected in the image, provide output that indicates an error.\n",
    "\n",
    "You are welcome to write your own functions for detecting humans and dogs in images, but feel free to use the `face_detector` and `dog_detector` functions developed above.  You are __required__ to use your CNN from Step 5 to predict dog breed.  \n",
    "\n",
    "Some sample output for our algorithm is provided below, but feel free to design your own user experience!\n",
    "\n",
    "![Sample Human Output](images/sample_human_output.png)\n",
    "\n",
    "\n",
    "### (IMPLEMENTATION) Write your Algorithm"
   ]
  },
  {
   "cell_type": "code",
   "execution_count": null,
   "metadata": {
    "collapsed": true
   },
   "outputs": [],
   "source": [
    "### TODO: Write your algorithm.\n",
    "### Feel free to use as many code cells as needed."
   ]
  },
  {
   "cell_type": "markdown",
   "metadata": {},
   "source": [
    "---\n",
    "<a id='step7'></a>\n",
    "## Step 7: Test Your Algorithm\n",
    "\n",
    "In this section, you will take your new algorithm for a spin!  What kind of dog does the algorithm think that __you__ look like?  If you have a dog, does it predict your dog's breed accurately?  If you have a cat, does it mistakenly think that your cat is a dog?\n",
    "\n",
    "### (IMPLEMENTATION) Test Your Algorithm on Sample Images!\n",
    "\n",
    "Test your algorithm at least six images on your computer.  Feel free to use any images you like.  Use at least two human and two dog images.  \n",
    "\n",
    "__Question 6:__ Is the output better than you expected :) ?  Or worse :( ?  Provide at least three possible points of improvement for your algorithm.\n",
    "\n",
    "__Answer:__ "
   ]
  },
  {
   "cell_type": "code",
   "execution_count": null,
   "metadata": {
    "collapsed": true
   },
   "outputs": [],
   "source": [
    "## TODO: Execute your algorithm from Step 6 on\n",
    "## at least 6 images on your computer.\n",
    "## Feel free to use as many code cells as needed."
   ]
  }
 ],
 "metadata": {
  "anaconda-cloud": {},
  "kernelspec": {
   "display_name": "Python 3",
   "language": "python",
   "name": "python3"
  },
  "language_info": {
   "codemirror_mode": {
    "name": "ipython",
    "version": 3
   },
   "file_extension": ".py",
   "mimetype": "text/x-python",
   "name": "python",
   "nbconvert_exporter": "python",
   "pygments_lexer": "ipython3",
   "version": "3.4.3"
  }
 },
 "nbformat": 4,
 "nbformat_minor": 1
}
